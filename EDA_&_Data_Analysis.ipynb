{
  "nbformat": 4,
  "nbformat_minor": 0,
  "metadata": {
    "colab": {
      "provenance": []
    },
    "kernelspec": {
      "name": "python3",
      "display_name": "Python 3"
    },
    "language_info": {
      "name": "python"
    }
  },
  "cells": [
    {
      "cell_type": "code",
      "execution_count": null,
      "metadata": {
        "colab": {
          "base_uri": "https://localhost:8080/"
        },
        "id": "g6KYWHw5e7jz",
        "outputId": "fa02231a-e91e-4b00-df6e-139fe89a0a16"
      },
      "outputs": [
        {
          "output_type": "stream",
          "name": "stdout",
          "text": [
            "Drive already mounted at /content/gdrive; to attempt to forcibly remount, call drive.mount(\"/content/gdrive\", force_remount=True).\n"
          ]
        }
      ],
      "source": [
        "from google.colab import drive\n",
        "\n",
        "drive.mount('/content/gdrive')"
      ]
    },
    {
      "cell_type": "code",
      "source": [
        "import pandas as pd\n",
        "import numpy as np\n",
        "import scipy.stats as st\n",
        "import re\n",
        "\n",
        "import seaborn as sns\n",
        "import matplotlib.pyplot as plt\n",
        "import datetime\n",
        "\n",
        "import warnings\n",
        "warnings.filterwarnings('ignore')"
      ],
      "metadata": {
        "id": "3kedFhoae_pd"
      },
      "execution_count": null,
      "outputs": []
    },
    {
      "cell_type": "code",
      "source": [
        "data = pd.read_csv('/content/gdrive/MyDrive/WEB SCRAPING 101/Data Cleaned_new.csv')"
      ],
      "metadata": {
        "id": "kQ1QScDwfFjj"
      },
      "execution_count": null,
      "outputs": []
    },
    {
      "cell_type": "code",
      "source": [
        "data.head()"
      ],
      "metadata": {
        "colab": {
          "base_uri": "https://localhost:8080/",
          "height": 345
        },
        "id": "nfOiVzpCghew",
        "outputId": "7951ec2f-f2f8-457f-a937-2482de0fde04"
      },
      "execution_count": null,
      "outputs": [
        {
          "output_type": "execute_result",
          "data": {
            "text/plain": [
              "                              job_title                   company_name  \\\n",
              "0                  Data Science Trainee  Algoritma Data Science School   \n",
              "1              Data Intelligence Intern                         SIRCLO   \n",
              "2             Business Analyst (intern)               Kawan Lama Group   \n",
              "3  Business Intelligence Analyst Intern                   Flash Coffee   \n",
              "4                 Data Scientist Intern                        Amartha   \n",
              "\n",
              "  date_posted date_scraped seniority_level employment_type work_place  \\\n",
              "0  2023-07-01     2023-8-3      Internship       Full-time     Onsite   \n",
              "1  2023-08-02     2023-8-3      Internship       Full-time     Hybrid   \n",
              "2  2023-07-24     2023-8-3      Internship      Internship     Onsite   \n",
              "3  2023-06-27     2023-8-3      Internship      Internship     Onsite   \n",
              "4  2023-07-27     2023-8-3      Internship       Full-time     Hybrid   \n",
              "\n",
              "                             industries        state    country  \\\n",
              "0     Education Administration Programs  DKI Jakarta  Indonesia   \n",
              "1         IT Services and IT Consulting       Banten  Indonesia   \n",
              "2                                Retail  DKI Jakarta  Indonesia   \n",
              "3  Technology, Information and Internet  DKI Jakarta  Indonesia   \n",
              "4                    Financial Services  DKI Jakarta  Indonesia   \n",
              "\n",
              "          company_size  company_followers  total_applicants  \\\n",
              "0       11-50 Employee              11560               155   \n",
              "1   1001-5000 Employee              67415               126   \n",
              "2      10001+ Employee             150260               292   \n",
              "3    501-1000 Employee              30563               228   \n",
              "4  5001-10000 Employee              64041               184   \n",
              "\n",
              "                                            job_link  \\\n",
              "0  https://id.linkedin.com/jobs/view/data-science...   \n",
              "1  https://id.linkedin.com/jobs/view/data-intelli...   \n",
              "2  https://id.linkedin.com/jobs/view/business-ana...   \n",
              "3  https://id.linkedin.com/jobs/view/business-int...   \n",
              "4  https://id.linkedin.com/jobs/view/data-scienti...   \n",
              "\n",
              "                                     job_description  \n",
              "0  Background Are you looking to build a career i...  \n",
              "1  nullResponsibilities SIRCLO Internship Program...  \n",
              "2  Gambaran Pekerjaan Melakukan analisa data terk...  \n",
              "3  Flash Coffee is one of Asia's fastest-growing ...  \n",
              "4  nullResponsibilities Complete ad hoc data requ...  "
            ],
            "text/html": [
              "\n",
              "  <div id=\"df-dc392d62-a479-4f84-abf0-de4eb63b84a0\" class=\"colab-df-container\">\n",
              "    <div>\n",
              "<style scoped>\n",
              "    .dataframe tbody tr th:only-of-type {\n",
              "        vertical-align: middle;\n",
              "    }\n",
              "\n",
              "    .dataframe tbody tr th {\n",
              "        vertical-align: top;\n",
              "    }\n",
              "\n",
              "    .dataframe thead th {\n",
              "        text-align: right;\n",
              "    }\n",
              "</style>\n",
              "<table border=\"1\" class=\"dataframe\">\n",
              "  <thead>\n",
              "    <tr style=\"text-align: right;\">\n",
              "      <th></th>\n",
              "      <th>job_title</th>\n",
              "      <th>company_name</th>\n",
              "      <th>date_posted</th>\n",
              "      <th>date_scraped</th>\n",
              "      <th>seniority_level</th>\n",
              "      <th>employment_type</th>\n",
              "      <th>work_place</th>\n",
              "      <th>industries</th>\n",
              "      <th>state</th>\n",
              "      <th>country</th>\n",
              "      <th>company_size</th>\n",
              "      <th>company_followers</th>\n",
              "      <th>total_applicants</th>\n",
              "      <th>job_link</th>\n",
              "      <th>job_description</th>\n",
              "    </tr>\n",
              "  </thead>\n",
              "  <tbody>\n",
              "    <tr>\n",
              "      <th>0</th>\n",
              "      <td>Data Science Trainee</td>\n",
              "      <td>Algoritma Data Science School</td>\n",
              "      <td>2023-07-01</td>\n",
              "      <td>2023-8-3</td>\n",
              "      <td>Internship</td>\n",
              "      <td>Full-time</td>\n",
              "      <td>Onsite</td>\n",
              "      <td>Education Administration Programs</td>\n",
              "      <td>DKI Jakarta</td>\n",
              "      <td>Indonesia</td>\n",
              "      <td>11-50 Employee</td>\n",
              "      <td>11560</td>\n",
              "      <td>155</td>\n",
              "      <td>https://id.linkedin.com/jobs/view/data-science...</td>\n",
              "      <td>Background Are you looking to build a career i...</td>\n",
              "    </tr>\n",
              "    <tr>\n",
              "      <th>1</th>\n",
              "      <td>Data Intelligence Intern</td>\n",
              "      <td>SIRCLO</td>\n",
              "      <td>2023-08-02</td>\n",
              "      <td>2023-8-3</td>\n",
              "      <td>Internship</td>\n",
              "      <td>Full-time</td>\n",
              "      <td>Hybrid</td>\n",
              "      <td>IT Services and IT Consulting</td>\n",
              "      <td>Banten</td>\n",
              "      <td>Indonesia</td>\n",
              "      <td>1001-5000 Employee</td>\n",
              "      <td>67415</td>\n",
              "      <td>126</td>\n",
              "      <td>https://id.linkedin.com/jobs/view/data-intelli...</td>\n",
              "      <td>nullResponsibilities SIRCLO Internship Program...</td>\n",
              "    </tr>\n",
              "    <tr>\n",
              "      <th>2</th>\n",
              "      <td>Business Analyst (intern)</td>\n",
              "      <td>Kawan Lama Group</td>\n",
              "      <td>2023-07-24</td>\n",
              "      <td>2023-8-3</td>\n",
              "      <td>Internship</td>\n",
              "      <td>Internship</td>\n",
              "      <td>Onsite</td>\n",
              "      <td>Retail</td>\n",
              "      <td>DKI Jakarta</td>\n",
              "      <td>Indonesia</td>\n",
              "      <td>10001+ Employee</td>\n",
              "      <td>150260</td>\n",
              "      <td>292</td>\n",
              "      <td>https://id.linkedin.com/jobs/view/business-ana...</td>\n",
              "      <td>Gambaran Pekerjaan Melakukan analisa data terk...</td>\n",
              "    </tr>\n",
              "    <tr>\n",
              "      <th>3</th>\n",
              "      <td>Business Intelligence Analyst Intern</td>\n",
              "      <td>Flash Coffee</td>\n",
              "      <td>2023-06-27</td>\n",
              "      <td>2023-8-3</td>\n",
              "      <td>Internship</td>\n",
              "      <td>Internship</td>\n",
              "      <td>Onsite</td>\n",
              "      <td>Technology, Information and Internet</td>\n",
              "      <td>DKI Jakarta</td>\n",
              "      <td>Indonesia</td>\n",
              "      <td>501-1000 Employee</td>\n",
              "      <td>30563</td>\n",
              "      <td>228</td>\n",
              "      <td>https://id.linkedin.com/jobs/view/business-int...</td>\n",
              "      <td>Flash Coffee is one of Asia's fastest-growing ...</td>\n",
              "    </tr>\n",
              "    <tr>\n",
              "      <th>4</th>\n",
              "      <td>Data Scientist Intern</td>\n",
              "      <td>Amartha</td>\n",
              "      <td>2023-07-27</td>\n",
              "      <td>2023-8-3</td>\n",
              "      <td>Internship</td>\n",
              "      <td>Full-time</td>\n",
              "      <td>Hybrid</td>\n",
              "      <td>Financial Services</td>\n",
              "      <td>DKI Jakarta</td>\n",
              "      <td>Indonesia</td>\n",
              "      <td>5001-10000 Employee</td>\n",
              "      <td>64041</td>\n",
              "      <td>184</td>\n",
              "      <td>https://id.linkedin.com/jobs/view/data-scienti...</td>\n",
              "      <td>nullResponsibilities Complete ad hoc data requ...</td>\n",
              "    </tr>\n",
              "  </tbody>\n",
              "</table>\n",
              "</div>\n",
              "    <div class=\"colab-df-buttons\">\n",
              "\n",
              "  <div class=\"colab-df-container\">\n",
              "    <button class=\"colab-df-convert\" onclick=\"convertToInteractive('df-dc392d62-a479-4f84-abf0-de4eb63b84a0')\"\n",
              "            title=\"Convert this dataframe to an interactive table.\"\n",
              "            style=\"display:none;\">\n",
              "\n",
              "  <svg xmlns=\"http://www.w3.org/2000/svg\" height=\"24px\" viewBox=\"0 -960 960 960\">\n",
              "    <path d=\"M120-120v-720h720v720H120Zm60-500h600v-160H180v160Zm220 220h160v-160H400v160Zm0 220h160v-160H400v160ZM180-400h160v-160H180v160Zm440 0h160v-160H620v160ZM180-180h160v-160H180v160Zm440 0h160v-160H620v160Z\"/>\n",
              "  </svg>\n",
              "    </button>\n",
              "\n",
              "  <style>\n",
              "    .colab-df-container {\n",
              "      display:flex;\n",
              "      gap: 12px;\n",
              "    }\n",
              "\n",
              "    .colab-df-convert {\n",
              "      background-color: #E8F0FE;\n",
              "      border: none;\n",
              "      border-radius: 50%;\n",
              "      cursor: pointer;\n",
              "      display: none;\n",
              "      fill: #1967D2;\n",
              "      height: 32px;\n",
              "      padding: 0 0 0 0;\n",
              "      width: 32px;\n",
              "    }\n",
              "\n",
              "    .colab-df-convert:hover {\n",
              "      background-color: #E2EBFA;\n",
              "      box-shadow: 0px 1px 2px rgba(60, 64, 67, 0.3), 0px 1px 3px 1px rgba(60, 64, 67, 0.15);\n",
              "      fill: #174EA6;\n",
              "    }\n",
              "\n",
              "    .colab-df-buttons div {\n",
              "      margin-bottom: 4px;\n",
              "    }\n",
              "\n",
              "    [theme=dark] .colab-df-convert {\n",
              "      background-color: #3B4455;\n",
              "      fill: #D2E3FC;\n",
              "    }\n",
              "\n",
              "    [theme=dark] .colab-df-convert:hover {\n",
              "      background-color: #434B5C;\n",
              "      box-shadow: 0px 1px 3px 1px rgba(0, 0, 0, 0.15);\n",
              "      filter: drop-shadow(0px 1px 2px rgba(0, 0, 0, 0.3));\n",
              "      fill: #FFFFFF;\n",
              "    }\n",
              "  </style>\n",
              "\n",
              "    <script>\n",
              "      const buttonEl =\n",
              "        document.querySelector('#df-dc392d62-a479-4f84-abf0-de4eb63b84a0 button.colab-df-convert');\n",
              "      buttonEl.style.display =\n",
              "        google.colab.kernel.accessAllowed ? 'block' : 'none';\n",
              "\n",
              "      async function convertToInteractive(key) {\n",
              "        const element = document.querySelector('#df-dc392d62-a479-4f84-abf0-de4eb63b84a0');\n",
              "        const dataTable =\n",
              "          await google.colab.kernel.invokeFunction('convertToInteractive',\n",
              "                                                    [key], {});\n",
              "        if (!dataTable) return;\n",
              "\n",
              "        const docLinkHtml = 'Like what you see? Visit the ' +\n",
              "          '<a target=\"_blank\" href=https://colab.research.google.com/notebooks/data_table.ipynb>data table notebook</a>'\n",
              "          + ' to learn more about interactive tables.';\n",
              "        element.innerHTML = '';\n",
              "        dataTable['output_type'] = 'display_data';\n",
              "        await google.colab.output.renderOutput(dataTable, element);\n",
              "        const docLink = document.createElement('div');\n",
              "        docLink.innerHTML = docLinkHtml;\n",
              "        element.appendChild(docLink);\n",
              "      }\n",
              "    </script>\n",
              "  </div>\n",
              "\n",
              "\n",
              "<div id=\"df-e2ccfb5b-bd7b-4e12-a016-4fb64a142f34\">\n",
              "  <button class=\"colab-df-quickchart\" onclick=\"quickchart('df-e2ccfb5b-bd7b-4e12-a016-4fb64a142f34')\"\n",
              "            title=\"Suggest charts.\"\n",
              "            style=\"display:none;\">\n",
              "\n",
              "<svg xmlns=\"http://www.w3.org/2000/svg\" height=\"24px\"viewBox=\"0 0 24 24\"\n",
              "     width=\"24px\">\n",
              "    <g>\n",
              "        <path d=\"M19 3H5c-1.1 0-2 .9-2 2v14c0 1.1.9 2 2 2h14c1.1 0 2-.9 2-2V5c0-1.1-.9-2-2-2zM9 17H7v-7h2v7zm4 0h-2V7h2v10zm4 0h-2v-4h2v4z\"/>\n",
              "    </g>\n",
              "</svg>\n",
              "  </button>\n",
              "\n",
              "<style>\n",
              "  .colab-df-quickchart {\n",
              "    background-color: #E8F0FE;\n",
              "    border: none;\n",
              "    border-radius: 50%;\n",
              "    cursor: pointer;\n",
              "    display: none;\n",
              "    fill: #1967D2;\n",
              "    height: 32px;\n",
              "    padding: 0 0 0 0;\n",
              "    width: 32px;\n",
              "  }\n",
              "\n",
              "  .colab-df-quickchart:hover {\n",
              "    background-color: #E2EBFA;\n",
              "    box-shadow: 0px 1px 2px rgba(60, 64, 67, 0.3), 0px 1px 3px 1px rgba(60, 64, 67, 0.15);\n",
              "    fill: #174EA6;\n",
              "  }\n",
              "\n",
              "  [theme=dark] .colab-df-quickchart {\n",
              "    background-color: #3B4455;\n",
              "    fill: #D2E3FC;\n",
              "  }\n",
              "\n",
              "  [theme=dark] .colab-df-quickchart:hover {\n",
              "    background-color: #434B5C;\n",
              "    box-shadow: 0px 1px 3px 1px rgba(0, 0, 0, 0.15);\n",
              "    filter: drop-shadow(0px 1px 2px rgba(0, 0, 0, 0.3));\n",
              "    fill: #FFFFFF;\n",
              "  }\n",
              "</style>\n",
              "\n",
              "  <script>\n",
              "    async function quickchart(key) {\n",
              "      const charts = await google.colab.kernel.invokeFunction(\n",
              "          'suggestCharts', [key], {});\n",
              "    }\n",
              "    (() => {\n",
              "      let quickchartButtonEl =\n",
              "        document.querySelector('#df-e2ccfb5b-bd7b-4e12-a016-4fb64a142f34 button');\n",
              "      quickchartButtonEl.style.display =\n",
              "        google.colab.kernel.accessAllowed ? 'block' : 'none';\n",
              "    })();\n",
              "  </script>\n",
              "</div>\n",
              "    </div>\n",
              "  </div>\n"
            ]
          },
          "metadata": {},
          "execution_count": 145
        }
      ]
    },
    {
      "cell_type": "code",
      "source": [
        "data.info()"
      ],
      "metadata": {
        "colab": {
          "base_uri": "https://localhost:8080/"
        },
        "id": "6lZRnr0if7FJ",
        "outputId": "3bf6750f-7a36-4e36-f967-e154c32546f8"
      },
      "execution_count": null,
      "outputs": [
        {
          "output_type": "stream",
          "name": "stdout",
          "text": [
            "<class 'pandas.core.frame.DataFrame'>\n",
            "RangeIndex: 18310 entries, 0 to 18309\n",
            "Data columns (total 15 columns):\n",
            " #   Column             Non-Null Count  Dtype \n",
            "---  ------             --------------  ----- \n",
            " 0   job_title          18310 non-null  object\n",
            " 1   company_name       18310 non-null  object\n",
            " 2   date_posted        18310 non-null  object\n",
            " 3   date_scraped       18310 non-null  object\n",
            " 4   seniority_level    18310 non-null  object\n",
            " 5   employment_type    18310 non-null  object\n",
            " 6   work_place         18310 non-null  object\n",
            " 7   industries         18310 non-null  object\n",
            " 8   state              18310 non-null  object\n",
            " 9   country            18310 non-null  object\n",
            " 10  company_size       18310 non-null  object\n",
            " 11  company_followers  18310 non-null  int64 \n",
            " 12  total_applicants   18310 non-null  int64 \n",
            " 13  job_link           18310 non-null  object\n",
            " 14  job_description    18310 non-null  object\n",
            "dtypes: int64(2), object(13)\n",
            "memory usage: 2.1+ MB\n"
          ]
        }
      ]
    },
    {
      "cell_type": "code",
      "source": [
        "data['date_posted'] = pd.to_datetime(data['date_posted'])\n",
        "data['date_scraped'] = pd.to_datetime(data['date_scraped'])\n",
        "data.drop(['job_link', 'job_description'], axis=1, inplace=True)\n",
        "\n",
        "data['applicant_perday'] = (data['date_scraped'] - data['date_posted']).dt.days\n",
        "data['applicant_perday'] = data['total_applicants'] / data['applicant_perday']\n",
        "data.applicant_perday.fillna(0, inplace=True)\n",
        "data.applicant_perday.replace(np.inf, 0, inplace=True)\n",
        "#data['applicant_perday'] = data['applicant_perday'].astype('int')\n",
        "\n",
        "data['day_of_week'] = data['date_posted'].dt.dayofweek"
      ],
      "metadata": {
        "id": "NSLcEQAbgDCP"
      },
      "execution_count": null,
      "outputs": []
    },
    {
      "cell_type": "code",
      "source": [
        "# function for plotting graph\n",
        "\n",
        "def create_plot(dataframe, x, y):\n",
        "  value1 = dataframe[x]\n",
        "  value2 = dataframe[y]\n",
        "\n",
        "  fig, ax = plt.subplots(figsize =(11, 6))\n",
        "\n",
        "  ax.barh(value1, value2)\n",
        "\n",
        "\n",
        "  for s in ['top', 'bottom', 'left', 'right']:\n",
        "      ax.spines[s].set_visible(False)\n",
        "\n",
        "  ax.xaxis.set_ticks_position('none')\n",
        "  ax.yaxis.set_ticks_position('none')\n",
        "\n",
        "  ax.xaxis.set_tick_params(pad = 5)\n",
        "  ax.yaxis.set_tick_params(pad = 10)\n",
        "\n",
        "  ax.invert_yaxis()\n",
        "\n",
        "  for i in ax.patches:\n",
        "      plt.text(i.get_width()+0.2, i.get_y()+0.5,\n",
        "              str(round((i.get_width()), 2)),\n",
        "              fontsize = 8, fontweight ='bold',\n",
        "              color ='grey')\n",
        "\n",
        "\n",
        "\n",
        "  return ax"
      ],
      "metadata": {
        "id": "BgAdtZwlcfdz"
      },
      "execution_count": null,
      "outputs": []
    },
    {
      "cell_type": "markdown",
      "source": [
        "## Looking at Job Posting based on day"
      ],
      "metadata": {
        "id": "G62Bwc5Zn-D1"
      }
    },
    {
      "cell_type": "code",
      "source": [
        "day = data.groupby('day_of_week')['date_posted'].count().reset_index().rename(columns={'date_posted' : 'job_posted'})\n",
        "\n",
        "ax = create_plot(day, 'day_of_week', 'job_posted')\n",
        "\n",
        "xtick = [\"\",\"Monday\", \"Tuesday\", \"Wednesday\", \"Thursday\", \"Friday\", \"Saturday\", \"Sunday\"]\n",
        "ax.set_yticklabels((xtick))\n",
        "ax.set_title('Total Job Posted Based on Day', loc ='left', )\n",
        "ax.set_xlabel('Job Posted')\n",
        "\n",
        "plt.grid(axis='x')\n",
        "plt.show()"
      ],
      "metadata": {
        "colab": {
          "base_uri": "https://localhost:8080/",
          "height": 566
        },
        "id": "rXqfzDmGuJJm",
        "outputId": "c02194cc-b7fa-4907-bafd-94f36378a761"
      },
      "execution_count": null,
      "outputs": [
        {
          "output_type": "display_data",
          "data": {
            "text/plain": [
              "<Figure size 1100x600 with 1 Axes>"
            ],
            "image/png": "[encoded data removed]"
          },
          "metadata": {}
        }
      ]
    },
    {
      "cell_type": "markdown",
      "source": [
        "\n",
        "**Findings**\n",
        "\n",
        "Thursday has the highest number of job postings with 3437 postings. Saturday has the fewest number of job postings with only 1065 postings.\n",
        "\n",
        "Weekend vs. Weekday Postings:\n",
        "- Combining Saturday and Sunday, we can see that the weekend has a total of 2395 job postings, which is significantly lower than the total for the weekdays, which has a combined total of 15045 job postings.\n",
        "\n",
        "Job Posting Trends:\n",
        "- Job postings generally increase from Monday to Thursday, with a peak on Thursday.\n",
        "- Job postings drop significantly over the weekend .\n",
        "\n",
        "**Recomendation**\n",
        "\n",
        "These findings can provide valuable insights for job seekers, indicating that it's more advantageous to explore the platform on weekdays, as job postings are significantly higher compared to the weekend."
      ],
      "metadata": {
        "id": "YUvVMgcLoE9d"
      }
    },
    {
      "cell_type": "markdown",
      "source": [
        "## Looking at Total Applicants based on Employment Type"
      ],
      "metadata": {
        "id": "k7f5ZIBKyrgP"
      }
    },
    {
      "cell_type": "code",
      "source": [
        "sns.distplot(data, x=data.loc[data['total_applicants']>0]['total_applicants'])"
      ],
      "metadata": {
        "colab": {
          "base_uri": "https://localhost:8080/",
          "height": 448
        },
        "id": "0GzSC0Igyn0w",
        "outputId": "2b015b50-699b-4e14-b32c-44c17f085e44"
      },
      "execution_count": null,
      "outputs": [
        {
          "output_type": "execute_result",
          "data": {
            "text/plain": [
              "<Axes: ylabel='Density'>"
            ]
          },
          "metadata": {},
          "execution_count": 150
        },
        {
          "output_type": "display_data",
          "data": {
            "text/plain": [
              "<Figure size 640x480 with 1 Axes>"
            ],
            "image/png": "[encoded data removed]"
          },
          "metadata": {}
        }
      ]
    },
    {
      "cell_type": "code",
      "source": [
        "sns.distplot(data, x=data['applicant_perday'])"
      ],
      "metadata": {
        "colab": {
          "base_uri": "https://localhost:8080/",
          "height": 448
        },
        "id": "wxF6Gf7fzfpo",
        "outputId": "6eb5a684-41a2-4b98-bc8a-d49405e77093"
      },
      "execution_count": null,
      "outputs": [
        {
          "output_type": "execute_result",
          "data": {
            "text/plain": [
              "<Axes: ylabel='Density'>"
            ]
          },
          "metadata": {},
          "execution_count": 151
        },
        {
          "output_type": "display_data",
          "data": {
            "text/plain": [
              "<Figure size 640x480 with 1 Axes>"
            ],
            "image/png": "[encoded data removed]"
          },
          "metadata": {}
        }
      ]
    },
    {
      "cell_type": "code",
      "source": [
        "emp_type = data.loc[data['employment_type'] != 'Unidentified'].groupby('employment_type')['total_applicants'].sum().reset_index().sort_values(by='total_applicants', ascending=False)\n",
        "emp_type"
      ],
      "metadata": {
        "id": "RadXUb_ruhfO",
        "colab": {
          "base_uri": "https://localhost:8080/",
          "height": 206
        },
        "outputId": "a5b08c59-5a8e-4878-b9a6-94b6ad0a7a4f"
      },
      "execution_count": null,
      "outputs": [
        {
          "output_type": "execute_result",
          "data": {
            "text/plain": [
              "  employment_type  total_applicants\n",
              "1       Full-time           1134396\n",
              "0        Contract             78139\n",
              "2      Internship             50392\n",
              "4       Part-time              7540\n",
              "3           Other               559"
            ],
            "text/html": [
              "\n",
              "  <div id=\"df-665869e4-4866-45c3-83a9-d63a2fe9d1c2\" class=\"colab-df-container\">\n",
              "    <div>\n",
              "<style scoped>\n",
              "    .dataframe tbody tr th:only-of-type {\n",
              "        vertical-align: middle;\n",
              "    }\n",
              "\n",
              "    .dataframe tbody tr th {\n",
              "        vertical-align: top;\n",
              "    }\n",
              "\n",
              "    .dataframe thead th {\n",
              "        text-align: right;\n",
              "    }\n",
              "</style>\n",
              "<table border=\"1\" class=\"dataframe\">\n",
              "  <thead>\n",
              "    <tr style=\"text-align: right;\">\n",
              "      <th></th>\n",
              "      <th>employment_type</th>\n",
              "      <th>total_applicants</th>\n",
              "    </tr>\n",
              "  </thead>\n",
              "  <tbody>\n",
              "    <tr>\n",
              "      <th>1</th>\n",
              "      <td>Full-time</td>\n",
              "      <td>1134396</td>\n",
              "    </tr>\n",
              "    <tr>\n",
              "      <th>0</th>\n",
              "      <td>Contract</td>\n",
              "      <td>78139</td>\n",
              "    </tr>\n",
              "    <tr>\n",
              "      <th>2</th>\n",
              "      <td>Internship</td>\n",
              "      <td>50392</td>\n",
              "    </tr>\n",
              "    <tr>\n",
              "      <th>4</th>\n",
              "      <td>Part-time</td>\n",
              "      <td>7540</td>\n",
              "    </tr>\n",
              "    <tr>\n",
              "      <th>3</th>\n",
              "      <td>Other</td>\n",
              "      <td>559</td>\n",
              "    </tr>\n",
              "  </tbody>\n",
              "</table>\n",
              "</div>\n",
              "    <div class=\"colab-df-buttons\">\n",
              "\n",
              "  <div class=\"colab-df-container\">\n",
              "    <button class=\"colab-df-convert\" onclick=\"convertToInteractive('df-665869e4-4866-45c3-83a9-d63a2fe9d1c2')\"\n",
              "            title=\"Convert this dataframe to an interactive table.\"\n",
              "            style=\"display:none;\">\n",
              "\n",
              "  <svg xmlns=\"http://www.w3.org/2000/svg\" height=\"24px\" viewBox=\"0 -960 960 960\">\n",
              "    <path d=\"M120-120v-720h720v720H120Zm60-500h600v-160H180v160Zm220 220h160v-160H400v160Zm0 220h160v-160H400v160ZM180-400h160v-160H180v160Zm440 0h160v-160H620v160ZM180-180h160v-160H180v160Zm440 0h160v-160H620v160Z\"/>\n",
              "  </svg>\n",
              "    </button>\n",
              "\n",
              "  <style>\n",
              "    .colab-df-container {\n",
              "      display:flex;\n",
              "      gap: 12px;\n",
              "    }\n",
              "\n",
              "    .colab-df-convert {\n",
              "      background-color: #E8F0FE;\n",
              "      border: none;\n",
              "      border-radius: 50%;\n",
              "      cursor: pointer;\n",
              "      display: none;\n",
              "      fill: #1967D2;\n",
              "      height: 32px;\n",
              "      padding: 0 0 0 0;\n",
              "      width: 32px;\n",
              "    }\n",
              "\n",
              "    .colab-df-convert:hover {\n",
              "      background-color: #E2EBFA;\n",
              "      box-shadow: 0px 1px 2px rgba(60, 64, 67, 0.3), 0px 1px 3px 1px rgba(60, 64, 67, 0.15);\n",
              "      fill: #174EA6;\n",
              "    }\n",
              "\n",
              "    .colab-df-buttons div {\n",
              "      margin-bottom: 4px;\n",
              "    }\n",
              "\n",
              "    [theme=dark] .colab-df-convert {\n",
              "      background-color: #3B4455;\n",
              "      fill: #D2E3FC;\n",
              "    }\n",
              "\n",
              "    [theme=dark] .colab-df-convert:hover {\n",
              "      background-color: #434B5C;\n",
              "      box-shadow: 0px 1px 3px 1px rgba(0, 0, 0, 0.15);\n",
              "      filter: drop-shadow(0px 1px 2px rgba(0, 0, 0, 0.3));\n",
              "      fill: #FFFFFF;\n",
              "    }\n",
              "  </style>\n",
              "\n",
              "    <script>\n",
              "      const buttonEl =\n",
              "        document.querySelector('#df-665869e4-4866-45c3-83a9-d63a2fe9d1c2 button.colab-df-convert');\n",
              "      buttonEl.style.display =\n",
              "        google.colab.kernel.accessAllowed ? 'block' : 'none';\n",
              "\n",
              "      async function convertToInteractive(key) {\n",
              "        const element = document.querySelector('#df-665869e4-4866-45c3-83a9-d63a2fe9d1c2');\n",
              "        const dataTable =\n",
              "          await google.colab.kernel.invokeFunction('convertToInteractive',\n",
              "                                                    [key], {});\n",
              "        if (!dataTable) return;\n",
              "\n",
              "        const docLinkHtml = 'Like what you see? Visit the ' +\n",
              "          '<a target=\"_blank\" href=https://colab.research.google.com/notebooks/data_table.ipynb>data table notebook</a>'\n",
              "          + ' to learn more about interactive tables.';\n",
              "        element.innerHTML = '';\n",
              "        dataTable['output_type'] = 'display_data';\n",
              "        await google.colab.output.renderOutput(dataTable, element);\n",
              "        const docLink = document.createElement('div');\n",
              "        docLink.innerHTML = docLinkHtml;\n",
              "        element.appendChild(docLink);\n",
              "      }\n",
              "    </script>\n",
              "  </div>\n",
              "\n",
              "\n",
              "<div id=\"df-c21a60aa-7a57-4ddd-8ef4-f81ac096ed25\">\n",
              "  <button class=\"colab-df-quickchart\" onclick=\"quickchart('df-c21a60aa-7a57-4ddd-8ef4-f81ac096ed25')\"\n",
              "            title=\"Suggest charts.\"\n",
              "            style=\"display:none;\">\n",
              "\n",
              "<svg xmlns=\"http://www.w3.org/2000/svg\" height=\"24px\"viewBox=\"0 0 24 24\"\n",
              "     width=\"24px\">\n",
              "    <g>\n",
              "        <path d=\"M19 3H5c-1.1 0-2 .9-2 2v14c0 1.1.9 2 2 2h14c1.1 0 2-.9 2-2V5c0-1.1-.9-2-2-2zM9 17H7v-7h2v7zm4 0h-2V7h2v10zm4 0h-2v-4h2v4z\"/>\n",
              "    </g>\n",
              "</svg>\n",
              "  </button>\n",
              "\n",
              "<style>\n",
              "  .colab-df-quickchart {\n",
              "    background-color: #E8F0FE;\n",
              "    border: none;\n",
              "    border-radius: 50%;\n",
              "    cursor: pointer;\n",
              "    display: none;\n",
              "    fill: #1967D2;\n",
              "    height: 32px;\n",
              "    padding: 0 0 0 0;\n",
              "    width: 32px;\n",
              "  }\n",
              "\n",
              "  .colab-df-quickchart:hover {\n",
              "    background-color: #E2EBFA;\n",
              "    box-shadow: 0px 1px 2px rgba(60, 64, 67, 0.3), 0px 1px 3px 1px rgba(60, 64, 67, 0.15);\n",
              "    fill: #174EA6;\n",
              "  }\n",
              "\n",
              "  [theme=dark] .colab-df-quickchart {\n",
              "    background-color: #3B4455;\n",
              "    fill: #D2E3FC;\n",
              "  }\n",
              "\n",
              "  [theme=dark] .colab-df-quickchart:hover {\n",
              "    background-color: #434B5C;\n",
              "    box-shadow: 0px 1px 3px 1px rgba(0, 0, 0, 0.15);\n",
              "    filter: drop-shadow(0px 1px 2px rgba(0, 0, 0, 0.3));\n",
              "    fill: #FFFFFF;\n",
              "  }\n",
              "</style>\n",
              "\n",
              "  <script>\n",
              "    async function quickchart(key) {\n",
              "      const charts = await google.colab.kernel.invokeFunction(\n",
              "          'suggestCharts', [key], {});\n",
              "    }\n",
              "    (() => {\n",
              "      let quickchartButtonEl =\n",
              "        document.querySelector('#df-c21a60aa-7a57-4ddd-8ef4-f81ac096ed25 button');\n",
              "      quickchartButtonEl.style.display =\n",
              "        google.colab.kernel.accessAllowed ? 'block' : 'none';\n",
              "    })();\n",
              "  </script>\n",
              "</div>\n",
              "    </div>\n",
              "  </div>\n"
            ]
          },
          "metadata": {},
          "execution_count": 152
        }
      ]
    },
    {
      "cell_type": "code",
      "source": [
        "ax = create_plot(emp_type, x='employment_type', y='total_applicants')\n",
        "\n",
        "xtick = [\"Full-time\", \"Contract\", \"Internship\", \"Part-time\", \"Other\"]\n",
        "ax.set_yticklabels((xtick))\n",
        "ax.set_title('Total Applicants Based on Employment Type', loc ='left', )\n",
        "ax.set_xlabel('Total Applicants')\n",
        "\n",
        "plt.grid(axis='x')\n",
        "plt.show()"
      ],
      "metadata": {
        "colab": {
          "base_uri": "https://localhost:8080/",
          "height": 566
        },
        "id": "3tRH1oblk8lU",
        "outputId": "d41f95e9-f983-4721-d60c-703f3b512a43"
      },
      "execution_count": null,
      "outputs": [
        {
          "output_type": "display_data",
          "data": {
            "text/plain": [
              "<Figure size 1100x600 with 1 Axes>"
            ],
            "image/png": "[encoded data removed]"
          },
          "metadata": {}
        }
      ]
    },
    {
      "cell_type": "markdown",
      "source": [
        "**Findings**\n",
        "\n",
        "- Full-time positions received the highest number of applicants, with 1,134,396 applicants. This indicates that there is substantial competition for these roles.\n",
        "- Internship positions attracted a significant number of applicants. This suggests that many job seekers are interested in gaining practical experience.\n",
        "\n",
        "**Insights**\n",
        "\n",
        "- Given the high competition for full-time positions, job seekers should tailor their resume, cover letter, and interview responses to highlight relevant skills and experiences.\n",
        "\n",
        "- Don't limit your job search to only full-time positions. Consider contract, internship, and part-time roles, especially if you are looking to gain experience or explore different industries.\n",
        "\n",
        "- If you're a student or recent graduate, consider pursuing internship opportunities to build practical skills and expand your network.\n",
        "\n",
        "**Recommendations**\n",
        "\n",
        "- Customize your job applications to match the specific requirements and qualifications of each role.\n",
        "\n",
        "- Actively network with professionals in your field of interest, attend industry events, and participate in workshops or online courses.\n",
        "\n",
        "- Be open to different types of employment arrangements, such as contract or part-time work, especially if you are early in your career. These roles can provide valuable experience and may lead to full-time opportunities."
      ],
      "metadata": {
        "id": "e9k9Rn74zOyT"
      }
    },
    {
      "cell_type": "markdown",
      "source": [
        "## Looking at Seniority Level distribution based on Company Size"
      ],
      "metadata": {
        "id": "2S6Fl0LUM2ac"
      }
    },
    {
      "cell_type": "code",
      "source": [
        "data.company_size.value_counts().index"
      ],
      "metadata": {
        "colab": {
          "base_uri": "https://localhost:8080/"
        },
        "id": "DM65dtUrBXYo",
        "outputId": "361079a5-f738-4082-a61a-9e2939aaab1f"
      },
      "execution_count": null,
      "outputs": [
        {
          "output_type": "execute_result",
          "data": {
            "text/plain": [
              "Index(['10001+ Employee', '1001-5000 Employee', '11-50 Employee',\n",
              "       '51-200 Employee', 'No Data', '201-500 Employee', '5001-10000 Employee',\n",
              "       '501-1000 Employee', '1-10 Employee'],\n",
              "      dtype='object')"
            ]
          },
          "metadata": {},
          "execution_count": 154
        }
      ]
    },
    {
      "cell_type": "code",
      "source": [
        "size_dict = {\n",
        "    '10001+ Employee' : 'Big Company',\n",
        "    '5001-10000 Employee' : 'Big Company',\n",
        "    '1001-5000 Employee' : 'Medium-Big Company',\n",
        "    '501-1000 Employee' : 'Medium-Big Company',\n",
        "    '201-500 Employee' : 'Medium Company',\n",
        "    '51-200 Employee' : 'Medium Company',\n",
        "    '11-50 Employee' : 'Small Company',\n",
        "    '1-10 Employee' : 'Small Company',\n",
        "    'No Data' : 'No Data'\n",
        "}"
      ],
      "metadata": {
        "id": "AgYSJFr_bvxg"
      },
      "execution_count": null,
      "outputs": []
    },
    {
      "cell_type": "code",
      "source": [
        "def comp_resize(x, dict=size_dict):\n",
        "  return size_dict[x]"
      ],
      "metadata": {
        "id": "3jD0NA2BBXWd"
      },
      "execution_count": null,
      "outputs": []
    },
    {
      "cell_type": "code",
      "source": [
        "data['comp_category'] = data['company_size'].apply(comp_resize)\n",
        "data.loc[data['seniority_level'] == 'Director', 'seniority_level'] = 'Mid-Senior level'\n",
        "data.seniority_level.value_counts(), data.comp_category.value_counts()"
      ],
      "metadata": {
        "id": "Cb2sllHCBXRn",
        "colab": {
          "base_uri": "https://localhost:8080/"
        },
        "outputId": "27ac6018-ec02-4dda-aee0-fbe62102afa5"
      },
      "execution_count": null,
      "outputs": [
        {
          "output_type": "execute_result",
          "data": {
            "text/plain": [
              "(Entry level         9654\n",
              " Mid-Senior level    8055\n",
              " Internship           601\n",
              " Name: seniority_level, dtype: int64,\n",
              " Big Company           5387\n",
              " Medium-Big Company    4229\n",
              " Medium Company        3766\n",
              " Small Company         3342\n",
              " No Data               1586\n",
              " Name: comp_category, dtype: int64)"
            ]
          },
          "metadata": {},
          "execution_count": 157
        }
      ]
    },
    {
      "cell_type": "code",
      "source": [
        "comp_group = data.loc[data['comp_category'] != 'No Data'].groupby(['comp_category', 'seniority_level']).count().unstack()['job_title']\n",
        "comp_group = comp_group.reindex([\"Big Company\", \"Medium-Big Company\", \"Medium Company\", \"Small Company\"])\n",
        "comp_group"
      ],
      "metadata": {
        "colab": {
          "base_uri": "https://localhost:8080/",
          "height": 206
        },
        "id": "EDPbBEt7kHjP",
        "outputId": "8b6b8b37-2569-4ea1-9095-65e0892cf670"
      },
      "execution_count": null,
      "outputs": [
        {
          "output_type": "execute_result",
          "data": {
            "text/plain": [
              "seniority_level     Entry level  Internship  Mid-Senior level\n",
              "comp_category                                                \n",
              "Big Company                2461         178              2748\n",
              "Medium-Big Company         2283          80              1866\n",
              "Medium Company             1853         128              1785\n",
              "Small Company              1893         105              1344"
            ],
            "text/html": [
              "\n",
              "  <div id=\"df-7c4bf6c6-7cd3-48fc-acb0-4a5d41f69361\" class=\"colab-df-container\">\n",
              "    <div>\n",
              "<style scoped>\n",
              "    .dataframe tbody tr th:only-of-type {\n",
              "        vertical-align: middle;\n",
              "    }\n",
              "\n",
              "    .dataframe tbody tr th {\n",
              "        vertical-align: top;\n",
              "    }\n",
              "\n",
              "    .dataframe thead th {\n",
              "        text-align: right;\n",
              "    }\n",
              "</style>\n",
              "<table border=\"1\" class=\"dataframe\">\n",
              "  <thead>\n",
              "    <tr style=\"text-align: right;\">\n",
              "      <th>seniority_level</th>\n",
              "      <th>Entry level</th>\n",
              "      <th>Internship</th>\n",
              "      <th>Mid-Senior level</th>\n",
              "    </tr>\n",
              "    <tr>\n",
              "      <th>comp_category</th>\n",
              "      <th></th>\n",
              "      <th></th>\n",
              "      <th></th>\n",
              "    </tr>\n",
              "  </thead>\n",
              "  <tbody>\n",
              "    <tr>\n",
              "      <th>Big Company</th>\n",
              "      <td>2461</td>\n",
              "      <td>178</td>\n",
              "      <td>2748</td>\n",
              "    </tr>\n",
              "    <tr>\n",
              "      <th>Medium-Big Company</th>\n",
              "      <td>2283</td>\n",
              "      <td>80</td>\n",
              "      <td>1866</td>\n",
              "    </tr>\n",
              "    <tr>\n",
              "      <th>Medium Company</th>\n",
              "      <td>1853</td>\n",
              "      <td>128</td>\n",
              "      <td>1785</td>\n",
              "    </tr>\n",
              "    <tr>\n",
              "      <th>Small Company</th>\n",
              "      <td>1893</td>\n",
              "      <td>105</td>\n",
              "      <td>1344</td>\n",
              "    </tr>\n",
              "  </tbody>\n",
              "</table>\n",
              "</div>\n",
              "    <div class=\"colab-df-buttons\">\n",
              "\n",
              "  <div class=\"colab-df-container\">\n",
              "    <button class=\"colab-df-convert\" onclick=\"convertToInteractive('df-7c4bf6c6-7cd3-48fc-acb0-4a5d41f69361')\"\n",
              "            title=\"Convert this dataframe to an interactive table.\"\n",
              "            style=\"display:none;\">\n",
              "\n",
              "  <svg xmlns=\"http://www.w3.org/2000/svg\" height=\"24px\" viewBox=\"0 -960 960 960\">\n",
              "    <path d=\"M120-120v-720h720v720H120Zm60-500h600v-160H180v160Zm220 220h160v-160H400v160Zm0 220h160v-160H400v160ZM180-400h160v-160H180v160Zm440 0h160v-160H620v160ZM180-180h160v-160H180v160Zm440 0h160v-160H620v160Z\"/>\n",
              "  </svg>\n",
              "    </button>\n",
              "\n",
              "  <style>\n",
              "    .colab-df-container {\n",
              "      display:flex;\n",
              "      gap: 12px;\n",
              "    }\n",
              "\n",
              "    .colab-df-convert {\n",
              "      background-color: #E8F0FE;\n",
              "      border: none;\n",
              "      border-radius: 50%;\n",
              "      cursor: pointer;\n",
              "      display: none;\n",
              "      fill: #1967D2;\n",
              "      height: 32px;\n",
              "      padding: 0 0 0 0;\n",
              "      width: 32px;\n",
              "    }\n",
              "\n",
              "    .colab-df-convert:hover {\n",
              "      background-color: #E2EBFA;\n",
              "      box-shadow: 0px 1px 2px rgba(60, 64, 67, 0.3), 0px 1px 3px 1px rgba(60, 64, 67, 0.15);\n",
              "      fill: #174EA6;\n",
              "    }\n",
              "\n",
              "    .colab-df-buttons div {\n",
              "      margin-bottom: 4px;\n",
              "    }\n",
              "\n",
              "    [theme=dark] .colab-df-convert {\n",
              "      background-color: #3B4455;\n",
              "      fill: #D2E3FC;\n",
              "    }\n",
              "\n",
              "    [theme=dark] .colab-df-convert:hover {\n",
              "      background-color: #434B5C;\n",
              "      box-shadow: 0px 1px 3px 1px rgba(0, 0, 0, 0.15);\n",
              "      filter: drop-shadow(0px 1px 2px rgba(0, 0, 0, 0.3));\n",
              "      fill: #FFFFFF;\n",
              "    }\n",
              "  </style>\n",
              "\n",
              "    <script>\n",
              "      const buttonEl =\n",
              "        document.querySelector('#df-7c4bf6c6-7cd3-48fc-acb0-4a5d41f69361 button.colab-df-convert');\n",
              "      buttonEl.style.display =\n",
              "        google.colab.kernel.accessAllowed ? 'block' : 'none';\n",
              "\n",
              "      async function convertToInteractive(key) {\n",
              "        const element = document.querySelector('#df-7c4bf6c6-7cd3-48fc-acb0-4a5d41f69361');\n",
              "        const dataTable =\n",
              "          await google.colab.kernel.invokeFunction('convertToInteractive',\n",
              "                                                    [key], {});\n",
              "        if (!dataTable) return;\n",
              "\n",
              "        const docLinkHtml = 'Like what you see? Visit the ' +\n",
              "          '<a target=\"_blank\" href=https://colab.research.google.com/notebooks/data_table.ipynb>data table notebook</a>'\n",
              "          + ' to learn more about interactive tables.';\n",
              "        element.innerHTML = '';\n",
              "        dataTable['output_type'] = 'display_data';\n",
              "        await google.colab.output.renderOutput(dataTable, element);\n",
              "        const docLink = document.createElement('div');\n",
              "        docLink.innerHTML = docLinkHtml;\n",
              "        element.appendChild(docLink);\n",
              "      }\n",
              "    </script>\n",
              "  </div>\n",
              "\n",
              "    </div>\n",
              "  </div>\n"
            ]
          },
          "metadata": {},
          "execution_count": 158
        }
      ]
    },
    {
      "cell_type": "code",
      "source": [
        "# Data to plot\n",
        "labels = 'Entry level', 'Mid-Senior level', 'Internship'\n",
        "sizes = data.seniority_level.value_counts().tolist()\n",
        "colors = ['y', 'g', 'b']\n",
        "explode = (0.1, 0, 0)  # explode 1st slice\n",
        "\n",
        "# Plot\n",
        "plt.pie(sizes, explode=explode, labels=labels, colors=colors,\n",
        "autopct='%1.1f%%', shadow=True, startangle=140)\n",
        "\n",
        "plt.axis('equal')\n",
        "plt.show()"
      ],
      "metadata": {
        "colab": {
          "base_uri": "https://localhost:8080/",
          "height": 406
        },
        "id": "qa8jchhZN_Rm",
        "outputId": "18f6d97a-d41d-4236-ff95-dba86e4ea953"
      },
      "execution_count": null,
      "outputs": [
        {
          "output_type": "display_data",
          "data": {
            "text/plain": [
              "<Figure size 640x480 with 1 Axes>"
            ],
            "image/png": "[encoded data removed]"
          },
          "metadata": {}
        }
      ]
    },
    {
      "cell_type": "code",
      "source": [
        "N = 4\n",
        "ind = np.arange(N)\n",
        "width = 0.25\n",
        "\n",
        "plt.figure(figsize=(16,9))\n",
        "xvals = comp_group['Internship'].tolist()\n",
        "bar1 = plt.bar(ind, xvals, width, color = 'y')\n",
        "\n",
        "yvals = comp_group['Entry level'].tolist()\n",
        "bar2 = plt.bar(ind+width, yvals, width, color='g')\n",
        "\n",
        "zvals = comp_group['Mid-Senior level'].tolist()\n",
        "bar3 = plt.bar(ind+width*2, zvals, width, color = 'b')\n",
        "\n",
        "plt.xlabel(\"Company Category\")\n",
        "plt.ylabel('Number of Job Posted')\n",
        "plt.title(\"Number of Jobs Based on Company Category\")\n",
        "\n",
        "plt.xticks(ind+width, comp_group.index.tolist())\n",
        "plt.legend( (bar1, bar2, bar3), ('Internship', 'Entry level', 'Mid-Senior level') )\n",
        "plt.grid(axis='y')\n",
        "plt.show()"
      ],
      "metadata": {
        "colab": {
          "base_uri": "https://localhost:8080/",
          "height": 795
        },
        "id": "_mJcwMhZfmcI",
        "outputId": "f86c310f-4359-43d1-b97b-f65ac1466ebf"
      },
      "execution_count": null,
      "outputs": [
        {
          "output_type": "display_data",
          "data": {
            "text/plain": [
              "<Figure size 1600x900 with 1 Axes>"
            ],
            "image/png": "[encoded data removed]"
          },
          "metadata": {}
        }
      ]
    },
    {
      "cell_type": "markdown",
      "source": [
        "**Findings**\n",
        "\n",
        "- Big Company has 5387 total job openings.\n",
        "- Medium-Big Company has 4229 total job openings.\n",
        "- Medium Company has 3766 total job openings.\n",
        "- Small Company has 3342 total job openings.\n",
        "\n",
        "Distribution of Job Openings by Experience Level:\n",
        "- Entry-level positions is the most common across all company sizes, followed by Mid-Senior level positions, with internships being the least common.\n",
        "\n",
        "Company Size Comparison:\n",
        "- Big companies  have the highest total number of job openings, followed by medium-big, medium-sized, and small companies.\n",
        "\n",
        "Internship Opportunities:\n",
        "- Big companies offer the most internship opportunities, followed by medium-sized companies, medium-big companies, and small companies.\n",
        "\n",
        "**Insight**\n",
        "\n",
        "- Job seekers looking for entry-level positions may find more opportunities across different company sizes.\n",
        "- Those interested in internships may have better chances at big companies.\n",
        "- Professionals with mid-senior level experience may find more options in larger companies, but there are still opportunities in medium and small companies."
      ],
      "metadata": {
        "id": "_1Us3BvQ9v-e"
      }
    },
    {
      "cell_type": "markdown",
      "source": [
        "## Job Posted Based on Industries"
      ],
      "metadata": {
        "id": "AAdBNy1PRigm"
      }
    },
    {
      "cell_type": "code",
      "source": [
        "def clean_industries(x):\n",
        "  return x.split(',')[0]\n",
        "\n",
        "\n",
        "\n",
        "def simplefied_industries(x):\n",
        "  if x in list_industries:\n",
        "    return x\n",
        "  else:\n",
        "    return 'Other Industries'"
      ],
      "metadata": {
        "id": "EBeICnIiUJUY"
      },
      "execution_count": null,
      "outputs": []
    },
    {
      "cell_type": "code",
      "source": [
        "data['clean_industries'] = data['industries'].apply(clean_industries)\n",
        "\n",
        "list_industries = data['clean_industries'].value_counts().head(n=15).index.tolist()\n",
        "data['clean_industries'] = data['clean_industries'].apply(simplefied_industries)\n",
        "data_industy = data.loc[data['clean_industries'] != 'Unidentified']"
      ],
      "metadata": {
        "id": "lS-tLZqgUJH2"
      },
      "execution_count": null,
      "outputs": []
    },
    {
      "cell_type": "code",
      "source": [
        "data_industy['clean_industries'].value_counts().reset_index().drop([0], axis=0)"
      ],
      "metadata": {
        "colab": {
          "base_uri": "https://localhost:8080/",
          "height": 489
        },
        "id": "d70GRkMH_wxf",
        "outputId": "c3c81a7e-1cb0-4d6b-b697-b8840b480605"
      },
      "execution_count": null,
      "outputs": [
        {
          "output_type": "execute_result",
          "data": {
            "text/plain": [
              "                                index  clean_industries\n",
              "1       IT Services and IT Consulting              3846\n",
              "2                Software Development              2174\n",
              "3                          Technology              1588\n",
              "4             Staffing and Recruiting              1375\n",
              "5                  Financial Services               699\n",
              "6   Information Technology & Services               440\n",
              "7    Business Consulting and Services               404\n",
              "8                 Internet Publishing               330\n",
              "9                          Appliances               323\n",
              "10          Government Administration               321\n",
              "11                            Banking               259\n",
              "12           Human Resources Services               219\n",
              "13        Semiconductor Manufacturing               211\n",
              "14                 Telecommunications               180"
            ],
            "text/html": [
              "\n",
              "  <div id=\"df-e769cbd1-0702-4021-b91a-a094e508fd7a\" class=\"colab-df-container\">\n",
              "    <div>\n",
              "<style scoped>\n",
              "    .dataframe tbody tr th:only-of-type {\n",
              "        vertical-align: middle;\n",
              "    }\n",
              "\n",
              "    .dataframe tbody tr th {\n",
              "        vertical-align: top;\n",
              "    }\n",
              "\n",
              "    .dataframe thead th {\n",
              "        text-align: right;\n",
              "    }\n",
              "</style>\n",
              "<table border=\"1\" class=\"dataframe\">\n",
              "  <thead>\n",
              "    <tr style=\"text-align: right;\">\n",
              "      <th></th>\n",
              "      <th>index</th>\n",
              "      <th>clean_industries</th>\n",
              "    </tr>\n",
              "  </thead>\n",
              "  <tbody>\n",
              "    <tr>\n",
              "      <th>1</th>\n",
              "      <td>IT Services and IT Consulting</td>\n",
              "      <td>3846</td>\n",
              "    </tr>\n",
              "    <tr>\n",
              "      <th>2</th>\n",
              "      <td>Software Development</td>\n",
              "      <td>2174</td>\n",
              "    </tr>\n",
              "    <tr>\n",
              "      <th>3</th>\n",
              "      <td>Technology</td>\n",
              "      <td>1588</td>\n",
              "    </tr>\n",
              "    <tr>\n",
              "      <th>4</th>\n",
              "      <td>Staffing and Recruiting</td>\n",
              "      <td>1375</td>\n",
              "    </tr>\n",
              "    <tr>\n",
              "      <th>5</th>\n",
              "      <td>Financial Services</td>\n",
              "      <td>699</td>\n",
              "    </tr>\n",
              "    <tr>\n",
              "      <th>6</th>\n",
              "      <td>Information Technology &amp; Services</td>\n",
              "      <td>440</td>\n",
              "    </tr>\n",
              "    <tr>\n",
              "      <th>7</th>\n",
              "      <td>Business Consulting and Services</td>\n",
              "      <td>404</td>\n",
              "    </tr>\n",
              "    <tr>\n",
              "      <th>8</th>\n",
              "      <td>Internet Publishing</td>\n",
              "      <td>330</td>\n",
              "    </tr>\n",
              "    <tr>\n",
              "      <th>9</th>\n",
              "      <td>Appliances</td>\n",
              "      <td>323</td>\n",
              "    </tr>\n",
              "    <tr>\n",
              "      <th>10</th>\n",
              "      <td>Government Administration</td>\n",
              "      <td>321</td>\n",
              "    </tr>\n",
              "    <tr>\n",
              "      <th>11</th>\n",
              "      <td>Banking</td>\n",
              "      <td>259</td>\n",
              "    </tr>\n",
              "    <tr>\n",
              "      <th>12</th>\n",
              "      <td>Human Resources Services</td>\n",
              "      <td>219</td>\n",
              "    </tr>\n",
              "    <tr>\n",
              "      <th>13</th>\n",
              "      <td>Semiconductor Manufacturing</td>\n",
              "      <td>211</td>\n",
              "    </tr>\n",
              "    <tr>\n",
              "      <th>14</th>\n",
              "      <td>Telecommunications</td>\n",
              "      <td>180</td>\n",
              "    </tr>\n",
              "  </tbody>\n",
              "</table>\n",
              "</div>\n",
              "    <div class=\"colab-df-buttons\">\n",
              "\n",
              "  <div class=\"colab-df-container\">\n",
              "    <button class=\"colab-df-convert\" onclick=\"convertToInteractive('df-e769cbd1-0702-4021-b91a-a094e508fd7a')\"\n",
              "            title=\"Convert this dataframe to an interactive table.\"\n",
              "            style=\"display:none;\">\n",
              "\n",
              "  <svg xmlns=\"http://www.w3.org/2000/svg\" height=\"24px\" viewBox=\"0 -960 960 960\">\n",
              "    <path d=\"M120-120v-720h720v720H120Zm60-500h600v-160H180v160Zm220 220h160v-160H400v160Zm0 220h160v-160H400v160ZM180-400h160v-160H180v160Zm440 0h160v-160H620v160ZM180-180h160v-160H180v160Zm440 0h160v-160H620v160Z\"/>\n",
              "  </svg>\n",
              "    </button>\n",
              "\n",
              "  <style>\n",
              "    .colab-df-container {\n",
              "      display:flex;\n",
              "      gap: 12px;\n",
              "    }\n",
              "\n",
              "    .colab-df-convert {\n",
              "      background-color: #E8F0FE;\n",
              "      border: none;\n",
              "      border-radius: 50%;\n",
              "      cursor: pointer;\n",
              "      display: none;\n",
              "      fill: #1967D2;\n",
              "      height: 32px;\n",
              "      padding: 0 0 0 0;\n",
              "      width: 32px;\n",
              "    }\n",
              "\n",
              "    .colab-df-convert:hover {\n",
              "      background-color: #E2EBFA;\n",
              "      box-shadow: 0px 1px 2px rgba(60, 64, 67, 0.3), 0px 1px 3px 1px rgba(60, 64, 67, 0.15);\n",
              "      fill: #174EA6;\n",
              "    }\n",
              "\n",
              "    .colab-df-buttons div {\n",
              "      margin-bottom: 4px;\n",
              "    }\n",
              "\n",
              "    [theme=dark] .colab-df-convert {\n",
              "      background-color: #3B4455;\n",
              "      fill: #D2E3FC;\n",
              "    }\n",
              "\n",
              "    [theme=dark] .colab-df-convert:hover {\n",
              "      background-color: #434B5C;\n",
              "      box-shadow: 0px 1px 3px 1px rgba(0, 0, 0, 0.15);\n",
              "      filter: drop-shadow(0px 1px 2px rgba(0, 0, 0, 0.3));\n",
              "      fill: #FFFFFF;\n",
              "    }\n",
              "  </style>\n",
              "\n",
              "    <script>\n",
              "      const buttonEl =\n",
              "        document.querySelector('#df-e769cbd1-0702-4021-b91a-a094e508fd7a button.colab-df-convert');\n",
              "      buttonEl.style.display =\n",
              "        google.colab.kernel.accessAllowed ? 'block' : 'none';\n",
              "\n",
              "      async function convertToInteractive(key) {\n",
              "        const element = document.querySelector('#df-e769cbd1-0702-4021-b91a-a094e508fd7a');\n",
              "        const dataTable =\n",
              "          await google.colab.kernel.invokeFunction('convertToInteractive',\n",
              "                                                    [key], {});\n",
              "        if (!dataTable) return;\n",
              "\n",
              "        const docLinkHtml = 'Like what you see? Visit the ' +\n",
              "          '<a target=\"_blank\" href=https://colab.research.google.com/notebooks/data_table.ipynb>data table notebook</a>'\n",
              "          + ' to learn more about interactive tables.';\n",
              "        element.innerHTML = '';\n",
              "        dataTable['output_type'] = 'display_data';\n",
              "        await google.colab.output.renderOutput(dataTable, element);\n",
              "        const docLink = document.createElement('div');\n",
              "        docLink.innerHTML = docLinkHtml;\n",
              "        element.appendChild(docLink);\n",
              "      }\n",
              "    </script>\n",
              "  </div>\n",
              "\n",
              "\n",
              "<div id=\"df-62b45169-2f6d-41a0-b798-448429a6dc66\">\n",
              "  <button class=\"colab-df-quickchart\" onclick=\"quickchart('df-62b45169-2f6d-41a0-b798-448429a6dc66')\"\n",
              "            title=\"Suggest charts.\"\n",
              "            style=\"display:none;\">\n",
              "\n",
              "<svg xmlns=\"http://www.w3.org/2000/svg\" height=\"24px\"viewBox=\"0 0 24 24\"\n",
              "     width=\"24px\">\n",
              "    <g>\n",
              "        <path d=\"M19 3H5c-1.1 0-2 .9-2 2v14c0 1.1.9 2 2 2h14c1.1 0 2-.9 2-2V5c0-1.1-.9-2-2-2zM9 17H7v-7h2v7zm4 0h-2V7h2v10zm4 0h-2v-4h2v4z\"/>\n",
              "    </g>\n",
              "</svg>\n",
              "  </button>\n",
              "\n",
              "<style>\n",
              "  .colab-df-quickchart {\n",
              "    background-color: #E8F0FE;\n",
              "    border: none;\n",
              "    border-radius: 50%;\n",
              "    cursor: pointer;\n",
              "    display: none;\n",
              "    fill: #1967D2;\n",
              "    height: 32px;\n",
              "    padding: 0 0 0 0;\n",
              "    width: 32px;\n",
              "  }\n",
              "\n",
              "  .colab-df-quickchart:hover {\n",
              "    background-color: #E2EBFA;\n",
              "    box-shadow: 0px 1px 2px rgba(60, 64, 67, 0.3), 0px 1px 3px 1px rgba(60, 64, 67, 0.15);\n",
              "    fill: #174EA6;\n",
              "  }\n",
              "\n",
              "  [theme=dark] .colab-df-quickchart {\n",
              "    background-color: #3B4455;\n",
              "    fill: #D2E3FC;\n",
              "  }\n",
              "\n",
              "  [theme=dark] .colab-df-quickchart:hover {\n",
              "    background-color: #434B5C;\n",
              "    box-shadow: 0px 1px 3px 1px rgba(0, 0, 0, 0.15);\n",
              "    filter: drop-shadow(0px 1px 2px rgba(0, 0, 0, 0.3));\n",
              "    fill: #FFFFFF;\n",
              "  }\n",
              "</style>\n",
              "\n",
              "  <script>\n",
              "    async function quickchart(key) {\n",
              "      const charts = await google.colab.kernel.invokeFunction(\n",
              "          'suggestCharts', [key], {});\n",
              "    }\n",
              "    (() => {\n",
              "      let quickchartButtonEl =\n",
              "        document.querySelector('#df-62b45169-2f6d-41a0-b798-448429a6dc66 button');\n",
              "      quickchartButtonEl.style.display =\n",
              "        google.colab.kernel.accessAllowed ? 'block' : 'none';\n",
              "    })();\n",
              "  </script>\n",
              "</div>\n",
              "    </div>\n",
              "  </div>\n"
            ]
          },
          "metadata": {},
          "execution_count": 163
        }
      ]
    },
    {
      "cell_type": "code",
      "source": [
        "ax = create_plot(data_industy['clean_industries'].value_counts().reset_index().drop([0], axis=0), x='index', y='clean_industries')\n",
        "\n",
        "xtick = data_industy['clean_industries'].value_counts().reset_index().drop([0], axis=0)['index'].tolist()\n",
        "ax.set_yticklabels((xtick))\n",
        "ax.set_title('Total Job Posted Based on Industry', loc ='left', )\n",
        "ax.set_xlabel('Total Job Posted')\n",
        "\n",
        "plt.grid(axis='x')\n",
        "plt.show()"
      ],
      "metadata": {
        "colab": {
          "base_uri": "https://localhost:8080/",
          "height": 566
        },
        "id": "XtL9ZnLIyHhP",
        "outputId": "09d9f9a0-f38e-4105-c813-f268282ad8d8"
      },
      "execution_count": null,
      "outputs": [
        {
          "output_type": "display_data",
          "data": {
            "text/plain": [
              "<Figure size 1100x600 with 1 Axes>"
            ],
            "image/png": "[encoded data removed]"
          },
          "metadata": {}
        }
      ]
    },
    {
      "cell_type": "markdown",
      "source": [
        "## Which country got the most remote job"
      ],
      "metadata": {
        "id": "KB-MWEnhdhRq"
      }
    },
    {
      "cell_type": "code",
      "source": [
        "place_group = data.loc[data['work_place'] != 'None'].groupby(['country', 'work_place']).count().unstack()['job_title']\n",
        "place_group"
      ],
      "metadata": {
        "colab": {
          "base_uri": "https://localhost:8080/",
          "height": 238
        },
        "id": "29w8CLMZdhB5",
        "outputId": "7d6217bd-8716-445a-ca16-ea2106f5f68a"
      },
      "execution_count": null,
      "outputs": [
        {
          "output_type": "execute_result",
          "data": {
            "text/plain": [
              "work_place   Hybrid  Onsite  Remote\n",
              "country                            \n",
              "Australia      1921    1947     460\n",
              "Indonesia       486    1283    1288\n",
              "Malaysia        687    2526     352\n",
              "New Zealand     399     422     285\n",
              "Singapore      1353    2996     189"
            ],
            "text/html": [
              "\n",
              "  <div id=\"df-dd2dbca5-4e27-4bd7-be00-696cdfea5394\" class=\"colab-df-container\">\n",
              "    <div>\n",
              "<style scoped>\n",
              "    .dataframe tbody tr th:only-of-type {\n",
              "        vertical-align: middle;\n",
              "    }\n",
              "\n",
              "    .dataframe tbody tr th {\n",
              "        vertical-align: top;\n",
              "    }\n",
              "\n",
              "    .dataframe thead th {\n",
              "        text-align: right;\n",
              "    }\n",
              "</style>\n",
              "<table border=\"1\" class=\"dataframe\">\n",
              "  <thead>\n",
              "    <tr style=\"text-align: right;\">\n",
              "      <th>work_place</th>\n",
              "      <th>Hybrid</th>\n",
              "      <th>Onsite</th>\n",
              "      <th>Remote</th>\n",
              "    </tr>\n",
              "    <tr>\n",
              "      <th>country</th>\n",
              "      <th></th>\n",
              "      <th></th>\n",
              "      <th></th>\n",
              "    </tr>\n",
              "  </thead>\n",
              "  <tbody>\n",
              "    <tr>\n",
              "      <th>Australia</th>\n",
              "      <td>1921</td>\n",
              "      <td>1947</td>\n",
              "      <td>460</td>\n",
              "    </tr>\n",
              "    <tr>\n",
              "      <th>Indonesia</th>\n",
              "      <td>486</td>\n",
              "      <td>1283</td>\n",
              "      <td>1288</td>\n",
              "    </tr>\n",
              "    <tr>\n",
              "      <th>Malaysia</th>\n",
              "      <td>687</td>\n",
              "      <td>2526</td>\n",
              "      <td>352</td>\n",
              "    </tr>\n",
              "    <tr>\n",
              "      <th>New Zealand</th>\n",
              "      <td>399</td>\n",
              "      <td>422</td>\n",
              "      <td>285</td>\n",
              "    </tr>\n",
              "    <tr>\n",
              "      <th>Singapore</th>\n",
              "      <td>1353</td>\n",
              "      <td>2996</td>\n",
              "      <td>189</td>\n",
              "    </tr>\n",
              "  </tbody>\n",
              "</table>\n",
              "</div>\n",
              "    <div class=\"colab-df-buttons\">\n",
              "\n",
              "  <div class=\"colab-df-container\">\n",
              "    <button class=\"colab-df-convert\" onclick=\"convertToInteractive('df-dd2dbca5-4e27-4bd7-be00-696cdfea5394')\"\n",
              "            title=\"Convert this dataframe to an interactive table.\"\n",
              "            style=\"display:none;\">\n",
              "\n",
              "  <svg xmlns=\"http://www.w3.org/2000/svg\" height=\"24px\" viewBox=\"0 -960 960 960\">\n",
              "    <path d=\"M120-120v-720h720v720H120Zm60-500h600v-160H180v160Zm220 220h160v-160H400v160Zm0 220h160v-160H400v160ZM180-400h160v-160H180v160Zm440 0h160v-160H620v160ZM180-180h160v-160H180v160Zm440 0h160v-160H620v160Z\"/>\n",
              "  </svg>\n",
              "    </button>\n",
              "\n",
              "  <style>\n",
              "    .colab-df-container {\n",
              "      display:flex;\n",
              "      gap: 12px;\n",
              "    }\n",
              "\n",
              "    .colab-df-convert {\n",
              "      background-color: #E8F0FE;\n",
              "      border: none;\n",
              "      border-radius: 50%;\n",
              "      cursor: pointer;\n",
              "      display: none;\n",
              "      fill: #1967D2;\n",
              "      height: 32px;\n",
              "      padding: 0 0 0 0;\n",
              "      width: 32px;\n",
              "    }\n",
              "\n",
              "    .colab-df-convert:hover {\n",
              "      background-color: #E2EBFA;\n",
              "      box-shadow: 0px 1px 2px rgba(60, 64, 67, 0.3), 0px 1px 3px 1px rgba(60, 64, 67, 0.15);\n",
              "      fill: #174EA6;\n",
              "    }\n",
              "\n",
              "    .colab-df-buttons div {\n",
              "      margin-bottom: 4px;\n",
              "    }\n",
              "\n",
              "    [theme=dark] .colab-df-convert {\n",
              "      background-color: #3B4455;\n",
              "      fill: #D2E3FC;\n",
              "    }\n",
              "\n",
              "    [theme=dark] .colab-df-convert:hover {\n",
              "      background-color: #434B5C;\n",
              "      box-shadow: 0px 1px 3px 1px rgba(0, 0, 0, 0.15);\n",
              "      filter: drop-shadow(0px 1px 2px rgba(0, 0, 0, 0.3));\n",
              "      fill: #FFFFFF;\n",
              "    }\n",
              "  </style>\n",
              "\n",
              "    <script>\n",
              "      const buttonEl =\n",
              "        document.querySelector('#df-dd2dbca5-4e27-4bd7-be00-696cdfea5394 button.colab-df-convert');\n",
              "      buttonEl.style.display =\n",
              "        google.colab.kernel.accessAllowed ? 'block' : 'none';\n",
              "\n",
              "      async function convertToInteractive(key) {\n",
              "        const element = document.querySelector('#df-dd2dbca5-4e27-4bd7-be00-696cdfea5394');\n",
              "        const dataTable =\n",
              "          await google.colab.kernel.invokeFunction('convertToInteractive',\n",
              "                                                    [key], {});\n",
              "        if (!dataTable) return;\n",
              "\n",
              "        const docLinkHtml = 'Like what you see? Visit the ' +\n",
              "          '<a target=\"_blank\" href=https://colab.research.google.com/notebooks/data_table.ipynb>data table notebook</a>'\n",
              "          + ' to learn more about interactive tables.';\n",
              "        element.innerHTML = '';\n",
              "        dataTable['output_type'] = 'display_data';\n",
              "        await google.colab.output.renderOutput(dataTable, element);\n",
              "        const docLink = document.createElement('div');\n",
              "        docLink.innerHTML = docLinkHtml;\n",
              "        element.appendChild(docLink);\n",
              "      }\n",
              "    </script>\n",
              "  </div>\n",
              "\n",
              "\n",
              "<div id=\"df-dccea968-e3f8-4f48-8747-bd60a5e40bc2\">\n",
              "  <button class=\"colab-df-quickchart\" onclick=\"quickchart('df-dccea968-e3f8-4f48-8747-bd60a5e40bc2')\"\n",
              "            title=\"Suggest charts.\"\n",
              "            style=\"display:none;\">\n",
              "\n",
              "<svg xmlns=\"http://www.w3.org/2000/svg\" height=\"24px\"viewBox=\"0 0 24 24\"\n",
              "     width=\"24px\">\n",
              "    <g>\n",
              "        <path d=\"M19 3H5c-1.1 0-2 .9-2 2v14c0 1.1.9 2 2 2h14c1.1 0 2-.9 2-2V5c0-1.1-.9-2-2-2zM9 17H7v-7h2v7zm4 0h-2V7h2v10zm4 0h-2v-4h2v4z\"/>\n",
              "    </g>\n",
              "</svg>\n",
              "  </button>\n",
              "\n",
              "<style>\n",
              "  .colab-df-quickchart {\n",
              "    background-color: #E8F0FE;\n",
              "    border: none;\n",
              "    border-radius: 50%;\n",
              "    cursor: pointer;\n",
              "    display: none;\n",
              "    fill: #1967D2;\n",
              "    height: 32px;\n",
              "    padding: 0 0 0 0;\n",
              "    width: 32px;\n",
              "  }\n",
              "\n",
              "  .colab-df-quickchart:hover {\n",
              "    background-color: #E2EBFA;\n",
              "    box-shadow: 0px 1px 2px rgba(60, 64, 67, 0.3), 0px 1px 3px 1px rgba(60, 64, 67, 0.15);\n",
              "    fill: #174EA6;\n",
              "  }\n",
              "\n",
              "  [theme=dark] .colab-df-quickchart {\n",
              "    background-color: #3B4455;\n",
              "    fill: #D2E3FC;\n",
              "  }\n",
              "\n",
              "  [theme=dark] .colab-df-quickchart:hover {\n",
              "    background-color: #434B5C;\n",
              "    box-shadow: 0px 1px 3px 1px rgba(0, 0, 0, 0.15);\n",
              "    filter: drop-shadow(0px 1px 2px rgba(0, 0, 0, 0.3));\n",
              "    fill: #FFFFFF;\n",
              "  }\n",
              "</style>\n",
              "\n",
              "  <script>\n",
              "    async function quickchart(key) {\n",
              "      const charts = await google.colab.kernel.invokeFunction(\n",
              "          'suggestCharts', [key], {});\n",
              "    }\n",
              "    (() => {\n",
              "      let quickchartButtonEl =\n",
              "        document.querySelector('#df-dccea968-e3f8-4f48-8747-bd60a5e40bc2 button');\n",
              "      quickchartButtonEl.style.display =\n",
              "        google.colab.kernel.accessAllowed ? 'block' : 'none';\n",
              "    })();\n",
              "  </script>\n",
              "</div>\n",
              "    </div>\n",
              "  </div>\n"
            ]
          },
          "metadata": {},
          "execution_count": 165
        }
      ]
    },
    {
      "cell_type": "code",
      "source": [
        "# Data to plot\n",
        "\n",
        "labels = 'Onsite', 'Hybrid', 'Remote'\n",
        "sizes = data.loc[data['work_place']!= 'None']['work_place'].value_counts().tolist()\n",
        "colors = ['y', 'g', 'b']\n",
        "explode = (0.1, 0, 0)  # explode 1st slice\n",
        "\n",
        "# Plot\n",
        "plt.pie(sizes, explode=explode, labels=labels, colors=colors,\n",
        "autopct='%1.1f%%', shadow=True, startangle=140)\n",
        "\n",
        "plt.axis('equal')\n",
        "plt.title('Work Place Ratio')\n",
        "plt.show()"
      ],
      "metadata": {
        "colab": {
          "base_uri": "https://localhost:8080/",
          "height": 428
        },
        "id": "ifYJRMzFdg_-",
        "outputId": "36ead015-fb3c-4793-a4b5-27da022fc6a9"
      },
      "execution_count": null,
      "outputs": [
        {
          "output_type": "display_data",
          "data": {
            "text/plain": [
              "<Figure size 640x480 with 1 Axes>"
            ],
            "image/png": "[encoded data removed]"
          },
          "metadata": {}
        }
      ]
    },
    {
      "cell_type": "code",
      "source": [
        "N = 5\n",
        "ind = np.arange(N)\n",
        "width = 0.25\n",
        "\n",
        "plt.figure(figsize=(16,9))\n",
        "xvals = place_group['Hybrid'].tolist()\n",
        "bar1 = plt.bar(ind, xvals, width, color = 'y')\n",
        "\n",
        "yvals = place_group['Onsite'].tolist()\n",
        "bar2 = plt.bar(ind+width, yvals, width, color='g')\n",
        "\n",
        "zvals = place_group['Remote'].tolist()\n",
        "bar3 = plt.bar(ind+width*2, zvals, width, color = 'b')\n",
        "\n",
        "plt.xlabel(\"Company Category\")\n",
        "plt.ylabel('Number of Job Posted')\n",
        "plt.title(\"Number of Jobs Based on Company Category\")\n",
        "\n",
        "plt.xticks(ind+width, place_group.index.tolist())\n",
        "plt.legend( (bar1, bar2, bar3), ('Hybrid', 'Onsite', 'Remote') )\n",
        "plt.grid(axis='y')\n",
        "plt.show()"
      ],
      "metadata": {
        "colab": {
          "base_uri": "https://localhost:8080/",
          "height": 795
        },
        "id": "rp-5Es5kdg-V",
        "outputId": "00a7dbc2-1e7d-4134-f335-4114cba3ee50"
      },
      "execution_count": null,
      "outputs": [
        {
          "output_type": "display_data",
          "data": {
            "text/plain": [
              "<Figure size 1600x900 with 1 Axes>"
            ],
            "image/png": "[encoded data removed]"
          },
          "metadata": {}
        }
      ]
    },
    {
      "cell_type": "markdown",
      "source": [
        "**Findings**\n",
        "\n",
        "- Onsite job postings are the most common (9174), followed by hybrid (4846) and remote (2574) job postings.\n",
        "\n",
        "**Insights**\n",
        "\n",
        "- Hybrid job postings are relatively common in Australia, Indonesia, and Singapore, indicating that these countries have embraced flexible work arrangements in their job markets.\n",
        "- Malaysia and Singapore show strong demand for onsite job postings, suggesting a preference for traditional office-based work in these countries.\n",
        "- Remote job postings are relatively common in Indonesia and Australia, indicating a substantial number of remote work opportunities in these countries."
      ],
      "metadata": {
        "id": "8NKn4Te_dqR1"
      }
    },
    {
      "cell_type": "markdown",
      "source": [
        "# EDA on Applicant Per-day"
      ],
      "metadata": {
        "id": "S6CFXB7tc0Ta"
      }
    },
    {
      "cell_type": "markdown",
      "source": [
        "## Average Applicant Perday Based on Industries"
      ],
      "metadata": {
        "id": "-vHQVl1ectqO"
      }
    },
    {
      "cell_type": "code",
      "source": [
        "industry_group = data_industy.groupby('clean_industries').mean()['applicant_perday'].reset_index().sort_values(by='applicant_perday', ascending=False)\n",
        "industry_group = industry_group.loc[industry_group['clean_industries']!= 'Other Industries']"
      ],
      "metadata": {
        "id": "XXXi9lAqfOSY"
      },
      "execution_count": null,
      "outputs": []
    },
    {
      "cell_type": "code",
      "source": [
        "industry_group"
      ],
      "metadata": {
        "colab": {
          "base_uri": "https://localhost:8080/",
          "height": 489
        },
        "id": "aoFoxEllAb9-",
        "outputId": "22c5a4d8-6394-4ed9-d339-856926036992"
      },
      "execution_count": null,
      "outputs": [
        {
          "output_type": "execute_result",
          "data": {
            "text/plain": [
              "                     clean_industries  applicant_perday\n",
              "0                          Appliances         13.160804\n",
              "2    Business Consulting and Services          9.995149\n",
              "3                  Financial Services          9.298769\n",
              "14                 Telecommunications          9.011558\n",
              "13                         Technology          8.907523\n",
              "6       IT Services and IT Consulting          8.739539\n",
              "1                             Banking          8.350804\n",
              "10        Semiconductor Manufacturing          7.374036\n",
              "8                 Internet Publishing          6.579579\n",
              "11               Software Development          5.752931\n",
              "12            Staffing and Recruiting          3.733883\n",
              "5            Human Resources Services          3.425116\n",
              "7   Information Technology & Services          3.168230\n",
              "4           Government Administration          1.904738"
            ],
            "text/html": [
              "\n",
              "  <div id=\"df-464990a6-83ac-4a16-9783-76ba4125af91\" class=\"colab-df-container\">\n",
              "    <div>\n",
              "<style scoped>\n",
              "    .dataframe tbody tr th:only-of-type {\n",
              "        vertical-align: middle;\n",
              "    }\n",
              "\n",
              "    .dataframe tbody tr th {\n",
              "        vertical-align: top;\n",
              "    }\n",
              "\n",
              "    .dataframe thead th {\n",
              "        text-align: right;\n",
              "    }\n",
              "</style>\n",
              "<table border=\"1\" class=\"dataframe\">\n",
              "  <thead>\n",
              "    <tr style=\"text-align: right;\">\n",
              "      <th></th>\n",
              "      <th>clean_industries</th>\n",
              "      <th>applicant_perday</th>\n",
              "    </tr>\n",
              "  </thead>\n",
              "  <tbody>\n",
              "    <tr>\n",
              "      <th>0</th>\n",
              "      <td>Appliances</td>\n",
              "      <td>13.160804</td>\n",
              "    </tr>\n",
              "    <tr>\n",
              "      <th>2</th>\n",
              "      <td>Business Consulting and Services</td>\n",
              "      <td>9.995149</td>\n",
              "    </tr>\n",
              "    <tr>\n",
              "      <th>3</th>\n",
              "      <td>Financial Services</td>\n",
              "      <td>9.298769</td>\n",
              "    </tr>\n",
              "    <tr>\n",
              "      <th>14</th>\n",
              "      <td>Telecommunications</td>\n",
              "      <td>9.011558</td>\n",
              "    </tr>\n",
              "    <tr>\n",
              "      <th>13</th>\n",
              "      <td>Technology</td>\n",
              "      <td>8.907523</td>\n",
              "    </tr>\n",
              "    <tr>\n",
              "      <th>6</th>\n",
              "      <td>IT Services and IT Consulting</td>\n",
              "      <td>8.739539</td>\n",
              "    </tr>\n",
              "    <tr>\n",
              "      <th>1</th>\n",
              "      <td>Banking</td>\n",
              "      <td>8.350804</td>\n",
              "    </tr>\n",
              "    <tr>\n",
              "      <th>10</th>\n",
              "      <td>Semiconductor Manufacturing</td>\n",
              "      <td>7.374036</td>\n",
              "    </tr>\n",
              "    <tr>\n",
              "      <th>8</th>\n",
              "      <td>Internet Publishing</td>\n",
              "      <td>6.579579</td>\n",
              "    </tr>\n",
              "    <tr>\n",
              "      <th>11</th>\n",
              "      <td>Software Development</td>\n",
              "      <td>5.752931</td>\n",
              "    </tr>\n",
              "    <tr>\n",
              "      <th>12</th>\n",
              "      <td>Staffing and Recruiting</td>\n",
              "      <td>3.733883</td>\n",
              "    </tr>\n",
              "    <tr>\n",
              "      <th>5</th>\n",
              "      <td>Human Resources Services</td>\n",
              "      <td>3.425116</td>\n",
              "    </tr>\n",
              "    <tr>\n",
              "      <th>7</th>\n",
              "      <td>Information Technology &amp; Services</td>\n",
              "      <td>3.168230</td>\n",
              "    </tr>\n",
              "    <tr>\n",
              "      <th>4</th>\n",
              "      <td>Government Administration</td>\n",
              "      <td>1.904738</td>\n",
              "    </tr>\n",
              "  </tbody>\n",
              "</table>\n",
              "</div>\n",
              "    <div class=\"colab-df-buttons\">\n",
              "\n",
              "  <div class=\"colab-df-container\">\n",
              "    <button class=\"colab-df-convert\" onclick=\"convertToInteractive('df-464990a6-83ac-4a16-9783-76ba4125af91')\"\n",
              "            title=\"Convert this dataframe to an interactive table.\"\n",
              "            style=\"display:none;\">\n",
              "\n",
              "  <svg xmlns=\"http://www.w3.org/2000/svg\" height=\"24px\" viewBox=\"0 -960 960 960\">\n",
              "    <path d=\"M120-120v-720h720v720H120Zm60-500h600v-160H180v160Zm220 220h160v-160H400v160Zm0 220h160v-160H400v160ZM180-400h160v-160H180v160Zm440 0h160v-160H620v160ZM180-180h160v-160H180v160Zm440 0h160v-160H620v160Z\"/>\n",
              "  </svg>\n",
              "    </button>\n",
              "\n",
              "  <style>\n",
              "    .colab-df-container {\n",
              "      display:flex;\n",
              "      gap: 12px;\n",
              "    }\n",
              "\n",
              "    .colab-df-convert {\n",
              "      background-color: #E8F0FE;\n",
              "      border: none;\n",
              "      border-radius: 50%;\n",
              "      cursor: pointer;\n",
              "      display: none;\n",
              "      fill: #1967D2;\n",
              "      height: 32px;\n",
              "      padding: 0 0 0 0;\n",
              "      width: 32px;\n",
              "    }\n",
              "\n",
              "    .colab-df-convert:hover {\n",
              "      background-color: #E2EBFA;\n",
              "      box-shadow: 0px 1px 2px rgba(60, 64, 67, 0.3), 0px 1px 3px 1px rgba(60, 64, 67, 0.15);\n",
              "      fill: #174EA6;\n",
              "    }\n",
              "\n",
              "    .colab-df-buttons div {\n",
              "      margin-bottom: 4px;\n",
              "    }\n",
              "\n",
              "    [theme=dark] .colab-df-convert {\n",
              "      background-color: #3B4455;\n",
              "      fill: #D2E3FC;\n",
              "    }\n",
              "\n",
              "    [theme=dark] .colab-df-convert:hover {\n",
              "      background-color: #434B5C;\n",
              "      box-shadow: 0px 1px 3px 1px rgba(0, 0, 0, 0.15);\n",
              "      filter: drop-shadow(0px 1px 2px rgba(0, 0, 0, 0.3));\n",
              "      fill: #FFFFFF;\n",
              "    }\n",
              "  </style>\n",
              "\n",
              "    <script>\n",
              "      const buttonEl =\n",
              "        document.querySelector('#df-464990a6-83ac-4a16-9783-76ba4125af91 button.colab-df-convert');\n",
              "      buttonEl.style.display =\n",
              "        google.colab.kernel.accessAllowed ? 'block' : 'none';\n",
              "\n",
              "      async function convertToInteractive(key) {\n",
              "        const element = document.querySelector('#df-464990a6-83ac-4a16-9783-76ba4125af91');\n",
              "        const dataTable =\n",
              "          await google.colab.kernel.invokeFunction('convertToInteractive',\n",
              "                                                    [key], {});\n",
              "        if (!dataTable) return;\n",
              "\n",
              "        const docLinkHtml = 'Like what you see? Visit the ' +\n",
              "          '<a target=\"_blank\" href=https://colab.research.google.com/notebooks/data_table.ipynb>data table notebook</a>'\n",
              "          + ' to learn more about interactive tables.';\n",
              "        element.innerHTML = '';\n",
              "        dataTable['output_type'] = 'display_data';\n",
              "        await google.colab.output.renderOutput(dataTable, element);\n",
              "        const docLink = document.createElement('div');\n",
              "        docLink.innerHTML = docLinkHtml;\n",
              "        element.appendChild(docLink);\n",
              "      }\n",
              "    </script>\n",
              "  </div>\n",
              "\n",
              "\n",
              "<div id=\"df-24930d5a-128b-4491-a487-11b6eed7ebbf\">\n",
              "  <button class=\"colab-df-quickchart\" onclick=\"quickchart('df-24930d5a-128b-4491-a487-11b6eed7ebbf')\"\n",
              "            title=\"Suggest charts.\"\n",
              "            style=\"display:none;\">\n",
              "\n",
              "<svg xmlns=\"http://www.w3.org/2000/svg\" height=\"24px\"viewBox=\"0 0 24 24\"\n",
              "     width=\"24px\">\n",
              "    <g>\n",
              "        <path d=\"M19 3H5c-1.1 0-2 .9-2 2v14c0 1.1.9 2 2 2h14c1.1 0 2-.9 2-2V5c0-1.1-.9-2-2-2zM9 17H7v-7h2v7zm4 0h-2V7h2v10zm4 0h-2v-4h2v4z\"/>\n",
              "    </g>\n",
              "</svg>\n",
              "  </button>\n",
              "\n",
              "<style>\n",
              "  .colab-df-quickchart {\n",
              "    background-color: #E8F0FE;\n",
              "    border: none;\n",
              "    border-radius: 50%;\n",
              "    cursor: pointer;\n",
              "    display: none;\n",
              "    fill: #1967D2;\n",
              "    height: 32px;\n",
              "    padding: 0 0 0 0;\n",
              "    width: 32px;\n",
              "  }\n",
              "\n",
              "  .colab-df-quickchart:hover {\n",
              "    background-color: #E2EBFA;\n",
              "    box-shadow: 0px 1px 2px rgba(60, 64, 67, 0.3), 0px 1px 3px 1px rgba(60, 64, 67, 0.15);\n",
              "    fill: #174EA6;\n",
              "  }\n",
              "\n",
              "  [theme=dark] .colab-df-quickchart {\n",
              "    background-color: #3B4455;\n",
              "    fill: #D2E3FC;\n",
              "  }\n",
              "\n",
              "  [theme=dark] .colab-df-quickchart:hover {\n",
              "    background-color: #434B5C;\n",
              "    box-shadow: 0px 1px 3px 1px rgba(0, 0, 0, 0.15);\n",
              "    filter: drop-shadow(0px 1px 2px rgba(0, 0, 0, 0.3));\n",
              "    fill: #FFFFFF;\n",
              "  }\n",
              "</style>\n",
              "\n",
              "  <script>\n",
              "    async function quickchart(key) {\n",
              "      const charts = await google.colab.kernel.invokeFunction(\n",
              "          'suggestCharts', [key], {});\n",
              "    }\n",
              "    (() => {\n",
              "      let quickchartButtonEl =\n",
              "        document.querySelector('#df-24930d5a-128b-4491-a487-11b6eed7ebbf button');\n",
              "      quickchartButtonEl.style.display =\n",
              "        google.colab.kernel.accessAllowed ? 'block' : 'none';\n",
              "    })();\n",
              "  </script>\n",
              "</div>\n",
              "    </div>\n",
              "  </div>\n"
            ]
          },
          "metadata": {},
          "execution_count": 169
        }
      ]
    },
    {
      "cell_type": "code",
      "source": [
        "ax = create_plot(industry_group, x='clean_industries', y='applicant_perday')\n",
        "\n",
        "xtick = industry_group['clean_industries'].tolist()\n",
        "ax.set_yticklabels((xtick))\n",
        "ax.set_title('Average Applicant Per-day in Top 15 Industries', loc ='left', )\n",
        "ax.set_xlabel('Total Applicants')\n",
        "\n",
        "plt.grid(axis='x')\n",
        "plt.show()"
      ],
      "metadata": {
        "colab": {
          "base_uri": "https://localhost:8080/",
          "height": 566
        },
        "id": "aeswk_okfs-B",
        "outputId": "e3d55808-6795-47b0-b55b-9d9cbf33f82f"
      },
      "execution_count": null,
      "outputs": [
        {
          "output_type": "display_data",
          "data": {
            "text/plain": [
              "<Figure size 1100x600 with 1 Axes>"
            ],
            "image/png": "[encoded data removed]"
          },
          "metadata": {}
        }
      ]
    },
    {
      "cell_type": "markdown",
      "source": [
        "**Findings**    \n",
        "    \n",
        "- IT Services and IT Consulting is the industry with the highest number of job postings.\n",
        "- Financial Services has a relatively high average applicant per-day, indicating that there is significant interest from job seekers in this industry.\n",
        "- Semiconductor Manufacturing and Internet Publishing, despite having fewer job postings, have relatively high average applicant per-day figures.\n",
        "\n",
        "**Insight**\n",
        "- Appliances and Business Consulting and Services have the highest average applicant per-day, indicating strong interest among job seekers in these industries. In contrast, Government Administration has the lowest average applicant per-day, suggesting lower competition for job openings in this sector.\n",
        "- IT Services and IT Consulting, despite having the highest number of job postings, doesn't have the highest average applicant per-day. This could imply that while there are many job openings in this field, there is also a relatively large pool of potential candidates, which might make it more competitive for applicants."
      ],
      "metadata": {
        "id": "dVJTuNedncxh"
      }
    },
    {
      "cell_type": "markdown",
      "source": [
        "## Looking at Applicant perday based on Employment Type"
      ],
      "metadata": {
        "id": "dSobufFodEGH"
      }
    },
    {
      "cell_type": "code",
      "source": [
        "avg_applicant = data.loc[data['employment_type'] != 'Unidentified'].groupby('employment_type')['applicant_perday'].mean().reset_index().sort_values(by='applicant_perday', ascending=False)\n",
        "avg_applicant"
      ],
      "metadata": {
        "colab": {
          "base_uri": "https://localhost:8080/",
          "height": 206
        },
        "id": "FzyTvN9PdV7i",
        "outputId": "20af1495-60a8-4801-d603-3f973b08fbfb"
      },
      "execution_count": null,
      "outputs": [
        {
          "output_type": "execute_result",
          "data": {
            "text/plain": [
              "  employment_type  applicant_perday\n",
              "2      Internship         21.582176\n",
              "1       Full-time          7.716658\n",
              "0        Contract          7.116166\n",
              "4       Part-time          3.889753\n",
              "3           Other          0.555182"
            ],
            "text/html": [
              "\n",
              "  <div id=\"df-bba809a2-0144-4429-993c-e1c3267d75e6\" class=\"colab-df-container\">\n",
              "    <div>\n",
              "<style scoped>\n",
              "    .dataframe tbody tr th:only-of-type {\n",
              "        vertical-align: middle;\n",
              "    }\n",
              "\n",
              "    .dataframe tbody tr th {\n",
              "        vertical-align: top;\n",
              "    }\n",
              "\n",
              "    .dataframe thead th {\n",
              "        text-align: right;\n",
              "    }\n",
              "</style>\n",
              "<table border=\"1\" class=\"dataframe\">\n",
              "  <thead>\n",
              "    <tr style=\"text-align: right;\">\n",
              "      <th></th>\n",
              "      <th>employment_type</th>\n",
              "      <th>applicant_perday</th>\n",
              "    </tr>\n",
              "  </thead>\n",
              "  <tbody>\n",
              "    <tr>\n",
              "      <th>2</th>\n",
              "      <td>Internship</td>\n",
              "      <td>21.582176</td>\n",
              "    </tr>\n",
              "    <tr>\n",
              "      <th>1</th>\n",
              "      <td>Full-time</td>\n",
              "      <td>7.716658</td>\n",
              "    </tr>\n",
              "    <tr>\n",
              "      <th>0</th>\n",
              "      <td>Contract</td>\n",
              "      <td>7.116166</td>\n",
              "    </tr>\n",
              "    <tr>\n",
              "      <th>4</th>\n",
              "      <td>Part-time</td>\n",
              "      <td>3.889753</td>\n",
              "    </tr>\n",
              "    <tr>\n",
              "      <th>3</th>\n",
              "      <td>Other</td>\n",
              "      <td>0.555182</td>\n",
              "    </tr>\n",
              "  </tbody>\n",
              "</table>\n",
              "</div>\n",
              "    <div class=\"colab-df-buttons\">\n",
              "\n",
              "  <div class=\"colab-df-container\">\n",
              "    <button class=\"colab-df-convert\" onclick=\"convertToInteractive('df-bba809a2-0144-4429-993c-e1c3267d75e6')\"\n",
              "            title=\"Convert this dataframe to an interactive table.\"\n",
              "            style=\"display:none;\">\n",
              "\n",
              "  <svg xmlns=\"http://www.w3.org/2000/svg\" height=\"24px\" viewBox=\"0 -960 960 960\">\n",
              "    <path d=\"M120-120v-720h720v720H120Zm60-500h600v-160H180v160Zm220 220h160v-160H400v160Zm0 220h160v-160H400v160ZM180-400h160v-160H180v160Zm440 0h160v-160H620v160ZM180-180h160v-160H180v160Zm440 0h160v-160H620v160Z\"/>\n",
              "  </svg>\n",
              "    </button>\n",
              "\n",
              "  <style>\n",
              "    .colab-df-container {\n",
              "      display:flex;\n",
              "      gap: 12px;\n",
              "    }\n",
              "\n",
              "    .colab-df-convert {\n",
              "      background-color: #E8F0FE;\n",
              "      border: none;\n",
              "      border-radius: 50%;\n",
              "      cursor: pointer;\n",
              "      display: none;\n",
              "      fill: #1967D2;\n",
              "      height: 32px;\n",
              "      padding: 0 0 0 0;\n",
              "      width: 32px;\n",
              "    }\n",
              "\n",
              "    .colab-df-convert:hover {\n",
              "      background-color: #E2EBFA;\n",
              "      box-shadow: 0px 1px 2px rgba(60, 64, 67, 0.3), 0px 1px 3px 1px rgba(60, 64, 67, 0.15);\n",
              "      fill: #174EA6;\n",
              "    }\n",
              "\n",
              "    .colab-df-buttons div {\n",
              "      margin-bottom: 4px;\n",
              "    }\n",
              "\n",
              "    [theme=dark] .colab-df-convert {\n",
              "      background-color: #3B4455;\n",
              "      fill: #D2E3FC;\n",
              "    }\n",
              "\n",
              "    [theme=dark] .colab-df-convert:hover {\n",
              "      background-color: #434B5C;\n",
              "      box-shadow: 0px 1px 3px 1px rgba(0, 0, 0, 0.15);\n",
              "      filter: drop-shadow(0px 1px 2px rgba(0, 0, 0, 0.3));\n",
              "      fill: #FFFFFF;\n",
              "    }\n",
              "  </style>\n",
              "\n",
              "    <script>\n",
              "      const buttonEl =\n",
              "        document.querySelector('#df-bba809a2-0144-4429-993c-e1c3267d75e6 button.colab-df-convert');\n",
              "      buttonEl.style.display =\n",
              "        google.colab.kernel.accessAllowed ? 'block' : 'none';\n",
              "\n",
              "      async function convertToInteractive(key) {\n",
              "        const element = document.querySelector('#df-bba809a2-0144-4429-993c-e1c3267d75e6');\n",
              "        const dataTable =\n",
              "          await google.colab.kernel.invokeFunction('convertToInteractive',\n",
              "                                                    [key], {});\n",
              "        if (!dataTable) return;\n",
              "\n",
              "        const docLinkHtml = 'Like what you see? Visit the ' +\n",
              "          '<a target=\"_blank\" href=https://colab.research.google.com/notebooks/data_table.ipynb>data table notebook</a>'\n",
              "          + ' to learn more about interactive tables.';\n",
              "        element.innerHTML = '';\n",
              "        dataTable['output_type'] = 'display_data';\n",
              "        await google.colab.output.renderOutput(dataTable, element);\n",
              "        const docLink = document.createElement('div');\n",
              "        docLink.innerHTML = docLinkHtml;\n",
              "        element.appendChild(docLink);\n",
              "      }\n",
              "    </script>\n",
              "  </div>\n",
              "\n",
              "\n",
              "<div id=\"df-0bb3cd1e-79ed-462e-94dd-a2f9e778dc57\">\n",
              "  <button class=\"colab-df-quickchart\" onclick=\"quickchart('df-0bb3cd1e-79ed-462e-94dd-a2f9e778dc57')\"\n",
              "            title=\"Suggest charts.\"\n",
              "            style=\"display:none;\">\n",
              "\n",
              "<svg xmlns=\"http://www.w3.org/2000/svg\" height=\"24px\"viewBox=\"0 0 24 24\"\n",
              "     width=\"24px\">\n",
              "    <g>\n",
              "        <path d=\"M19 3H5c-1.1 0-2 .9-2 2v14c0 1.1.9 2 2 2h14c1.1 0 2-.9 2-2V5c0-1.1-.9-2-2-2zM9 17H7v-7h2v7zm4 0h-2V7h2v10zm4 0h-2v-4h2v4z\"/>\n",
              "    </g>\n",
              "</svg>\n",
              "  </button>\n",
              "\n",
              "<style>\n",
              "  .colab-df-quickchart {\n",
              "    background-color: #E8F0FE;\n",
              "    border: none;\n",
              "    border-radius: 50%;\n",
              "    cursor: pointer;\n",
              "    display: none;\n",
              "    fill: #1967D2;\n",
              "    height: 32px;\n",
              "    padding: 0 0 0 0;\n",
              "    width: 32px;\n",
              "  }\n",
              "\n",
              "  .colab-df-quickchart:hover {\n",
              "    background-color: #E2EBFA;\n",
              "    box-shadow: 0px 1px 2px rgba(60, 64, 67, 0.3), 0px 1px 3px 1px rgba(60, 64, 67, 0.15);\n",
              "    fill: #174EA6;\n",
              "  }\n",
              "\n",
              "  [theme=dark] .colab-df-quickchart {\n",
              "    background-color: #3B4455;\n",
              "    fill: #D2E3FC;\n",
              "  }\n",
              "\n",
              "  [theme=dark] .colab-df-quickchart:hover {\n",
              "    background-color: #434B5C;\n",
              "    box-shadow: 0px 1px 3px 1px rgba(0, 0, 0, 0.15);\n",
              "    filter: drop-shadow(0px 1px 2px rgba(0, 0, 0, 0.3));\n",
              "    fill: #FFFFFF;\n",
              "  }\n",
              "</style>\n",
              "\n",
              "  <script>\n",
              "    async function quickchart(key) {\n",
              "      const charts = await google.colab.kernel.invokeFunction(\n",
              "          'suggestCharts', [key], {});\n",
              "    }\n",
              "    (() => {\n",
              "      let quickchartButtonEl =\n",
              "        document.querySelector('#df-0bb3cd1e-79ed-462e-94dd-a2f9e778dc57 button');\n",
              "      quickchartButtonEl.style.display =\n",
              "        google.colab.kernel.accessAllowed ? 'block' : 'none';\n",
              "    })();\n",
              "  </script>\n",
              "</div>\n",
              "    </div>\n",
              "  </div>\n"
            ]
          },
          "metadata": {},
          "execution_count": 171
        }
      ]
    },
    {
      "cell_type": "code",
      "source": [
        "ax = create_plot(avg_applicant, x='employment_type', y='applicant_perday')\n",
        "\n",
        "xtick = [\"Internship\", \"Full-time\", \"Contract\", \"Part-time\", \"Other\"]\n",
        "ax.set_yticklabels((xtick))\n",
        "ax.set_title('Average Applicant perday on Employment Type', loc ='left', )\n",
        "ax.set_xlabel('Total Applicants')\n",
        "\n",
        "plt.grid(axis='x')\n",
        "plt.show()"
      ],
      "metadata": {
        "colab": {
          "base_uri": "https://localhost:8080/",
          "height": 566
        },
        "id": "gBGVatcadV5g",
        "outputId": "36273757-8f9d-4f6d-d6a2-48e8dac82c54"
      },
      "execution_count": null,
      "outputs": [
        {
          "output_type": "display_data",
          "data": {
            "text/plain": [
              "<Figure size 1100x600 with 1 Axes>"
            ],
            "image/png": "[encoded data removed]"
          },
          "metadata": {}
        }
      ]
    },
    {
      "cell_type": "markdown",
      "source": [
        "**Findings**\n",
        "\n",
        "- The \"Internship\" category stands out prominently with an average of 21.77 applicants per day, surpassing the \"Full-time\" category with an average of 7.74 applicants per day.\n",
        "\n",
        "**Insight**\n",
        "\n",
        "With this graph that utilizes \"applicant per day,\" we achieve a more balanced perspective of the total number of applicants. This is because some job postings may have been active for a longer duration, resulting in a higher total number of applicants. However, when we divide this total by the number of days since the job was posted, the \"applicant per day\" metric provides a more equitable comparison. Conversely, in cases where there are fewer total applicants, but the job posting is relatively new, the \"applicant per day\" metric may make the daily interest appear more substantial.\n",
        "\n",
        "In summary, this analysis underscores the significance of considering the \"applicant per day\" metric when evaluating job seeker interest. It helps mitigate the impact of the job posting's age on the total number of applicants and offers a more balanced view of the attractiveness of different job categories. It's evident that \"Internship\" positions, with their high \"applicant per day\" rate, have strong appeal to job seekers, surpassing \"Full-time\" positions in this regard."
      ],
      "metadata": {
        "id": "tQRJv931daFS"
      }
    },
    {
      "cell_type": "markdown",
      "source": [
        "## Looking at Average Applicant Per-day on Seniority Level"
      ],
      "metadata": {
        "id": "sp8RrHvkebx1"
      }
    },
    {
      "cell_type": "code",
      "source": [
        "sen_level = data.groupby('seniority_level')['applicant_perday'].mean().reset_index().reindex([1,0,2])"
      ],
      "metadata": {
        "id": "MxL6uBjMekf4"
      },
      "execution_count": null,
      "outputs": []
    },
    {
      "cell_type": "code",
      "source": [
        "sen_level"
      ],
      "metadata": {
        "colab": {
          "base_uri": "https://localhost:8080/",
          "height": 144
        },
        "id": "mnGfzPPmekZn",
        "outputId": "96ad2348-ce63-44c5-85e9-beb12ab66039"
      },
      "execution_count": null,
      "outputs": [
        {
          "output_type": "execute_result",
          "data": {
            "text/plain": [
              "    seniority_level  applicant_perday\n",
              "1        Internship         18.807238\n",
              "0       Entry level          6.967602\n",
              "2  Mid-Senior level          8.308915"
            ],
            "text/html": [
              "\n",
              "  <div id=\"df-25dc9a50-7b23-4579-aa44-36fc0a596d3c\" class=\"colab-df-container\">\n",
              "    <div>\n",
              "<style scoped>\n",
              "    .dataframe tbody tr th:only-of-type {\n",
              "        vertical-align: middle;\n",
              "    }\n",
              "\n",
              "    .dataframe tbody tr th {\n",
              "        vertical-align: top;\n",
              "    }\n",
              "\n",
              "    .dataframe thead th {\n",
              "        text-align: right;\n",
              "    }\n",
              "</style>\n",
              "<table border=\"1\" class=\"dataframe\">\n",
              "  <thead>\n",
              "    <tr style=\"text-align: right;\">\n",
              "      <th></th>\n",
              "      <th>seniority_level</th>\n",
              "      <th>applicant_perday</th>\n",
              "    </tr>\n",
              "  </thead>\n",
              "  <tbody>\n",
              "    <tr>\n",
              "      <th>1</th>\n",
              "      <td>Internship</td>\n",
              "      <td>18.807238</td>\n",
              "    </tr>\n",
              "    <tr>\n",
              "      <th>0</th>\n",
              "      <td>Entry level</td>\n",
              "      <td>6.967602</td>\n",
              "    </tr>\n",
              "    <tr>\n",
              "      <th>2</th>\n",
              "      <td>Mid-Senior level</td>\n",
              "      <td>8.308915</td>\n",
              "    </tr>\n",
              "  </tbody>\n",
              "</table>\n",
              "</div>\n",
              "    <div class=\"colab-df-buttons\">\n",
              "\n",
              "  <div class=\"colab-df-container\">\n",
              "    <button class=\"colab-df-convert\" onclick=\"convertToInteractive('df-25dc9a50-7b23-4579-aa44-36fc0a596d3c')\"\n",
              "            title=\"Convert this dataframe to an interactive table.\"\n",
              "            style=\"display:none;\">\n",
              "\n",
              "  <svg xmlns=\"http://www.w3.org/2000/svg\" height=\"24px\" viewBox=\"0 -960 960 960\">\n",
              "    <path d=\"M120-120v-720h720v720H120Zm60-500h600v-160H180v160Zm220 220h160v-160H400v160Zm0 220h160v-160H400v160ZM180-400h160v-160H180v160Zm440 0h160v-160H620v160ZM180-180h160v-160H180v160Zm440 0h160v-160H620v160Z\"/>\n",
              "  </svg>\n",
              "    </button>\n",
              "\n",
              "  <style>\n",
              "    .colab-df-container {\n",
              "      display:flex;\n",
              "      gap: 12px;\n",
              "    }\n",
              "\n",
              "    .colab-df-convert {\n",
              "      background-color: #E8F0FE;\n",
              "      border: none;\n",
              "      border-radius: 50%;\n",
              "      cursor: pointer;\n",
              "      display: none;\n",
              "      fill: #1967D2;\n",
              "      height: 32px;\n",
              "      padding: 0 0 0 0;\n",
              "      width: 32px;\n",
              "    }\n",
              "\n",
              "    .colab-df-convert:hover {\n",
              "      background-color: #E2EBFA;\n",
              "      box-shadow: 0px 1px 2px rgba(60, 64, 67, 0.3), 0px 1px 3px 1px rgba(60, 64, 67, 0.15);\n",
              "      fill: #174EA6;\n",
              "    }\n",
              "\n",
              "    .colab-df-buttons div {\n",
              "      margin-bottom: 4px;\n",
              "    }\n",
              "\n",
              "    [theme=dark] .colab-df-convert {\n",
              "      background-color: #3B4455;\n",
              "      fill: #D2E3FC;\n",
              "    }\n",
              "\n",
              "    [theme=dark] .colab-df-convert:hover {\n",
              "      background-color: #434B5C;\n",
              "      box-shadow: 0px 1px 3px 1px rgba(0, 0, 0, 0.15);\n",
              "      filter: drop-shadow(0px 1px 2px rgba(0, 0, 0, 0.3));\n",
              "      fill: #FFFFFF;\n",
              "    }\n",
              "  </style>\n",
              "\n",
              "    <script>\n",
              "      const buttonEl =\n",
              "        document.querySelector('#df-25dc9a50-7b23-4579-aa44-36fc0a596d3c button.colab-df-convert');\n",
              "      buttonEl.style.display =\n",
              "        google.colab.kernel.accessAllowed ? 'block' : 'none';\n",
              "\n",
              "      async function convertToInteractive(key) {\n",
              "        const element = document.querySelector('#df-25dc9a50-7b23-4579-aa44-36fc0a596d3c');\n",
              "        const dataTable =\n",
              "          await google.colab.kernel.invokeFunction('convertToInteractive',\n",
              "                                                    [key], {});\n",
              "        if (!dataTable) return;\n",
              "\n",
              "        const docLinkHtml = 'Like what you see? Visit the ' +\n",
              "          '<a target=\"_blank\" href=https://colab.research.google.com/notebooks/data_table.ipynb>data table notebook</a>'\n",
              "          + ' to learn more about interactive tables.';\n",
              "        element.innerHTML = '';\n",
              "        dataTable['output_type'] = 'display_data';\n",
              "        await google.colab.output.renderOutput(dataTable, element);\n",
              "        const docLink = document.createElement('div');\n",
              "        docLink.innerHTML = docLinkHtml;\n",
              "        element.appendChild(docLink);\n",
              "      }\n",
              "    </script>\n",
              "  </div>\n",
              "\n",
              "    </div>\n",
              "  </div>\n"
            ]
          },
          "metadata": {},
          "execution_count": 174
        }
      ]
    },
    {
      "cell_type": "code",
      "source": [
        "ax = create_plot(sen_level, x='seniority_level', y='applicant_perday')\n",
        "\n",
        "xtick = sen_level['seniority_level'].tolist()\n",
        "ax.set_yticklabels((xtick))\n",
        "ax.set_title('Average Applicant perday on Seniority Level', loc ='left', )\n",
        "ax.set_xlabel('Average Applicants')\n",
        "\n",
        "plt.grid(axis='x')\n",
        "plt.show()"
      ],
      "metadata": {
        "colab": {
          "base_uri": "https://localhost:8080/",
          "height": 566
        },
        "id": "VfjehtBhfS2O",
        "outputId": "a51dcbb8-fd6d-4847-ab4c-3f8fd51d1c18"
      },
      "execution_count": null,
      "outputs": [
        {
          "output_type": "display_data",
          "data": {
            "text/plain": [
              "<Figure size 1100x600 with 1 Axes>"
            ],
            "image/png": "[encoded data removed]"
          },
          "metadata": {}
        }
      ]
    },
    {
      "cell_type": "markdown",
      "source": [
        "**Findings**\n",
        "\n",
        "- Internship positions continue to stand out as the most attractive job category, with an average of approximately 18.93 applicants per day.\n",
        "- Mid-Senior level positions receive an average of approximately 8.33 applicants per day. This indicates that there is a significant level of competition for roles that require a moderate level of experience and expertise.\n",
        "- Although the average number of applicants for entry-level positions has decreased slightly to approximately 7.00 applicants per day, these roles remain competitive."
      ],
      "metadata": {
        "id": "vR1FLsgbiSlb"
      }
    },
    {
      "cell_type": "markdown",
      "source": [
        "## Looking at Average Applicant Per-day on Company Category"
      ],
      "metadata": {
        "id": "-_iBLZmpfwf2"
      }
    },
    {
      "cell_type": "code",
      "source": [
        "avg_comp = data.loc[data['comp_category'] != 'No Data'].groupby('comp_category')['applicant_perday'].mean().reset_index().sort_values(by='applicant_perday', ascending=False)\n",
        "avg_comp"
      ],
      "metadata": {
        "colab": {
          "base_uri": "https://localhost:8080/",
          "height": 175
        },
        "id": "0Rr6HmGyhb3f",
        "outputId": "266b0367-6f71-46e9-e796-7e108f905c12"
      },
      "execution_count": null,
      "outputs": [
        {
          "output_type": "execute_result",
          "data": {
            "text/plain": [
              "        comp_category  applicant_perday\n",
              "0         Big Company         10.662806\n",
              "2  Medium-Big Company          8.672032\n",
              "1      Medium Company          7.890394\n",
              "3       Small Company          5.592936"
            ],
            "text/html": [
              "\n",
              "  <div id=\"df-8023d103-6a23-4b64-a57a-dec6ac0005a6\" class=\"colab-df-container\">\n",
              "    <div>\n",
              "<style scoped>\n",
              "    .dataframe tbody tr th:only-of-type {\n",
              "        vertical-align: middle;\n",
              "    }\n",
              "\n",
              "    .dataframe tbody tr th {\n",
              "        vertical-align: top;\n",
              "    }\n",
              "\n",
              "    .dataframe thead th {\n",
              "        text-align: right;\n",
              "    }\n",
              "</style>\n",
              "<table border=\"1\" class=\"dataframe\">\n",
              "  <thead>\n",
              "    <tr style=\"text-align: right;\">\n",
              "      <th></th>\n",
              "      <th>comp_category</th>\n",
              "      <th>applicant_perday</th>\n",
              "    </tr>\n",
              "  </thead>\n",
              "  <tbody>\n",
              "    <tr>\n",
              "      <th>0</th>\n",
              "      <td>Big Company</td>\n",
              "      <td>10.662806</td>\n",
              "    </tr>\n",
              "    <tr>\n",
              "      <th>2</th>\n",
              "      <td>Medium-Big Company</td>\n",
              "      <td>8.672032</td>\n",
              "    </tr>\n",
              "    <tr>\n",
              "      <th>1</th>\n",
              "      <td>Medium Company</td>\n",
              "      <td>7.890394</td>\n",
              "    </tr>\n",
              "    <tr>\n",
              "      <th>3</th>\n",
              "      <td>Small Company</td>\n",
              "      <td>5.592936</td>\n",
              "    </tr>\n",
              "  </tbody>\n",
              "</table>\n",
              "</div>\n",
              "    <div class=\"colab-df-buttons\">\n",
              "\n",
              "  <div class=\"colab-df-container\">\n",
              "    <button class=\"colab-df-convert\" onclick=\"convertToInteractive('df-8023d103-6a23-4b64-a57a-dec6ac0005a6')\"\n",
              "            title=\"Convert this dataframe to an interactive table.\"\n",
              "            style=\"display:none;\">\n",
              "\n",
              "  <svg xmlns=\"http://www.w3.org/2000/svg\" height=\"24px\" viewBox=\"0 -960 960 960\">\n",
              "    <path d=\"M120-120v-720h720v720H120Zm60-500h600v-160H180v160Zm220 220h160v-160H400v160Zm0 220h160v-160H400v160ZM180-400h160v-160H180v160Zm440 0h160v-160H620v160ZM180-180h160v-160H180v160Zm440 0h160v-160H620v160Z\"/>\n",
              "  </svg>\n",
              "    </button>\n",
              "\n",
              "  <style>\n",
              "    .colab-df-container {\n",
              "      display:flex;\n",
              "      gap: 12px;\n",
              "    }\n",
              "\n",
              "    .colab-df-convert {\n",
              "      background-color: #E8F0FE;\n",
              "      border: none;\n",
              "      border-radius: 50%;\n",
              "      cursor: pointer;\n",
              "      display: none;\n",
              "      fill: #1967D2;\n",
              "      height: 32px;\n",
              "      padding: 0 0 0 0;\n",
              "      width: 32px;\n",
              "    }\n",
              "\n",
              "    .colab-df-convert:hover {\n",
              "      background-color: #E2EBFA;\n",
              "      box-shadow: 0px 1px 2px rgba(60, 64, 67, 0.3), 0px 1px 3px 1px rgba(60, 64, 67, 0.15);\n",
              "      fill: #174EA6;\n",
              "    }\n",
              "\n",
              "    .colab-df-buttons div {\n",
              "      margin-bottom: 4px;\n",
              "    }\n",
              "\n",
              "    [theme=dark] .colab-df-convert {\n",
              "      background-color: #3B4455;\n",
              "      fill: #D2E3FC;\n",
              "    }\n",
              "\n",
              "    [theme=dark] .colab-df-convert:hover {\n",
              "      background-color: #434B5C;\n",
              "      box-shadow: 0px 1px 3px 1px rgba(0, 0, 0, 0.15);\n",
              "      filter: drop-shadow(0px 1px 2px rgba(0, 0, 0, 0.3));\n",
              "      fill: #FFFFFF;\n",
              "    }\n",
              "  </style>\n",
              "\n",
              "    <script>\n",
              "      const buttonEl =\n",
              "        document.querySelector('#df-8023d103-6a23-4b64-a57a-dec6ac0005a6 button.colab-df-convert');\n",
              "      buttonEl.style.display =\n",
              "        google.colab.kernel.accessAllowed ? 'block' : 'none';\n",
              "\n",
              "      async function convertToInteractive(key) {\n",
              "        const element = document.querySelector('#df-8023d103-6a23-4b64-a57a-dec6ac0005a6');\n",
              "        const dataTable =\n",
              "          await google.colab.kernel.invokeFunction('convertToInteractive',\n",
              "                                                    [key], {});\n",
              "        if (!dataTable) return;\n",
              "\n",
              "        const docLinkHtml = 'Like what you see? Visit the ' +\n",
              "          '<a target=\"_blank\" href=https://colab.research.google.com/notebooks/data_table.ipynb>data table notebook</a>'\n",
              "          + ' to learn more about interactive tables.';\n",
              "        element.innerHTML = '';\n",
              "        dataTable['output_type'] = 'display_data';\n",
              "        await google.colab.output.renderOutput(dataTable, element);\n",
              "        const docLink = document.createElement('div');\n",
              "        docLink.innerHTML = docLinkHtml;\n",
              "        element.appendChild(docLink);\n",
              "      }\n",
              "    </script>\n",
              "  </div>\n",
              "\n",
              "    </div>\n",
              "  </div>\n"
            ]
          },
          "metadata": {},
          "execution_count": 176
        }
      ]
    },
    {
      "cell_type": "code",
      "source": [
        "ax = create_plot(avg_comp, x='comp_category', y='applicant_perday')\n",
        "\n",
        "xtick = avg_comp['comp_category'].tolist()\n",
        "ax.set_yticklabels((xtick))\n",
        "ax.set_title('Average Applicant perday on Company Size', loc ='left', )\n",
        "ax.set_xlabel('Average Applicants')\n",
        "\n",
        "plt.grid(axis='x')\n",
        "plt.show()"
      ],
      "metadata": {
        "colab": {
          "base_uri": "https://localhost:8080/",
          "height": 566
        },
        "id": "OoVsG2qphZu4",
        "outputId": "9b74869e-71e7-4968-e22c-f1c8b2b5bc80"
      },
      "execution_count": null,
      "outputs": [
        {
          "output_type": "display_data",
          "data": {
            "text/plain": [
              "<Figure size 1100x600 with 1 Axes>"
            ],
            "image/png": "[encoded data removed]"
          },
          "metadata": {}
        }
      ]
    },
    {
      "cell_type": "markdown",
      "source": [
        "**Findings**\n",
        "\n",
        "Company Size Affects Applicant Interest:\n",
        "\n",
        "- Big companies receive the highest number of applicants per day. This suggests that job seekers are generally more interested in opportunities at larger, well-established firms.\n",
        "- Medium-Big companies receive the second-highest number of applicants. This indicates that medium-sized firms also have a competitive advantage in attracting talent.\n",
        "- Medium-sized companies receive an average of approximately 7.90 applicants per day, while small companies receive an average of approximately 5.61 applicants per day. These findings suggest that job seekers may be less inclined to apply to medium-sized and small companies, possibly due to perceived differences in stability or opportunities.\n",
        "\n",
        "\n",
        "**Insight**\n",
        "- Job seekers should be prepared for intense competition when applying to positions at big companies. The high number of applicants means that the selection process can be highly competitive.\n",
        "- For those who want to work for well-established companies but prefer a less competitive job market, medium-big companies can be an attractive option."
      ],
      "metadata": {
        "id": "1GsNUSBjiMTO"
      }
    },
    {
      "cell_type": "markdown",
      "source": [
        "# Hypothesis Testing"
      ],
      "metadata": {
        "id": "8-us_IROlCN5"
      }
    },
    {
      "cell_type": "markdown",
      "source": [
        "## Hypothesis Testing on Company Category"
      ],
      "metadata": {
        "id": "fqvY8aMLmlNC"
      }
    },
    {
      "cell_type": "markdown",
      "source": [
        "H0 (Null Hypothesis): The average number of applicants per day between big companies and other companies is the SAME.\n",
        "\n",
        "H1 (Alternative Hypothesis): The average number of applicants per day between big companies and other companies is DIFFERENT."
      ],
      "metadata": {
        "id": "HOfUfIAqmDn2"
      }
    },
    {
      "cell_type": "code",
      "source": [
        "len(data[data['comp_category'] == 'Big Company']), len(data[data['comp_category'] != 'Big Company'])"
      ],
      "metadata": {
        "id": "-d4U5kXml_YI",
        "colab": {
          "base_uri": "https://localhost:8080/"
        },
        "outputId": "0de5d936-0521-4941-e1c7-df131835fddb"
      },
      "execution_count": null,
      "outputs": [
        {
          "output_type": "execute_result",
          "data": {
            "text/plain": [
              "(5387, 12923)"
            ]
          },
          "metadata": {},
          "execution_count": 178
        }
      ]
    },
    {
      "cell_type": "code",
      "source": [
        "big_comp = data.loc[(data['comp_category'] == 'Big Company') & (data['applicant_perday'] != 0)]['applicant_perday']\n",
        "big_comp"
      ],
      "metadata": {
        "id": "a1rQ1BGfl_8j",
        "colab": {
          "base_uri": "https://localhost:8080/"
        },
        "outputId": "67f7b799-c889-481f-a4be-c22158f49e3e"
      },
      "execution_count": null,
      "outputs": [
        {
          "output_type": "execute_result",
          "data": {
            "text/plain": [
              "2         29.200000\n",
              "4         26.285714\n",
              "5         11.600000\n",
              "12       287.400000\n",
              "13       346.000000\n",
              "            ...    \n",
              "18265      0.129032\n",
              "18272      0.367347\n",
              "18273      1.370370\n",
              "18289      1.000000\n",
              "18309      3.961538\n",
              "Name: applicant_perday, Length: 5155, dtype: float64"
            ]
          },
          "metadata": {},
          "execution_count": 179
        }
      ]
    },
    {
      "cell_type": "code",
      "source": [
        "other_comp = data.loc[(data['comp_category'] != 'Big Company') & (data['applicant_perday'] != 0)]['applicant_perday']\n",
        "other_comp"
      ],
      "metadata": {
        "id": "gJuvIpiGl_62",
        "colab": {
          "base_uri": "https://localhost:8080/"
        },
        "outputId": "31ffa0fa-5d29-42a4-c008-fe35c5eb6fba"
      },
      "execution_count": null,
      "outputs": [
        {
          "output_type": "execute_result",
          "data": {
            "text/plain": [
              "0          4.696970\n",
              "1        126.000000\n",
              "3          6.162162\n",
              "6         11.983607\n",
              "7        137.000000\n",
              "            ...    \n",
              "18304      0.076923\n",
              "18305      0.038462\n",
              "18306      4.000000\n",
              "18307      4.000000\n",
              "18308      2.605263\n",
              "Name: applicant_perday, Length: 11564, dtype: float64"
            ]
          },
          "metadata": {},
          "execution_count": 180
        }
      ]
    },
    {
      "cell_type": "markdown",
      "source": [
        "Since we need the same sample size, I will take randomly 5155 data from `other_comp` to match it size with `big_comp`"
      ],
      "metadata": {
        "id": "VLO2JsTtoRoX"
      }
    },
    {
      "cell_type": "code",
      "source": [
        "other_comp = other_comp.sample(5155)\n",
        "len(big_comp) , len(other_comp)"
      ],
      "metadata": {
        "id": "DCwoWu0al_5z",
        "colab": {
          "base_uri": "https://localhost:8080/"
        },
        "outputId": "2b46ebee-e530-4f21-bb86-6a340896926a"
      },
      "execution_count": null,
      "outputs": [
        {
          "output_type": "execute_result",
          "data": {
            "text/plain": [
              "(5155, 5155)"
            ]
          },
          "metadata": {},
          "execution_count": 181
        }
      ]
    },
    {
      "cell_type": "code",
      "source": [
        "# check variance\n",
        "print(f'variance Big Companies: {np.var(big_comp)}')\n",
        "print(f'variance Other Companies: {np.var(other_comp)}')"
      ],
      "metadata": {
        "id": "3O3oCw16l_27",
        "colab": {
          "base_uri": "https://localhost:8080/"
        },
        "outputId": "3bee51b4-8bf3-4734-f758-a65b2dfe552d"
      },
      "execution_count": null,
      "outputs": [
        {
          "output_type": "stream",
          "name": "stdout",
          "text": [
            "variance Big Companies: 923.7675744625403\n",
            "variance Other Companies: 629.1185117476122\n"
          ]
        }
      ]
    },
    {
      "cell_type": "code",
      "source": [
        "# check if the variance is equal\n",
        "equal_variance = np.var(big_comp)/np.var(other_comp)\n",
        "\n",
        "if equal_variance < 4:\n",
        "    print('Variance is EQUAL')\n",
        "else:\n",
        "    print('Variance is NOT EQUAL')"
      ],
      "metadata": {
        "colab": {
          "base_uri": "https://localhost:8080/"
        },
        "id": "rEEoLYMYpQwq",
        "outputId": "976cc4f9-2930-478e-a375-15a4e6d78b97"
      },
      "execution_count": null,
      "outputs": [
        {
          "output_type": "stream",
          "name": "stdout",
          "text": [
            "Variance is EQUAL\n"
          ]
        }
      ]
    },
    {
      "cell_type": "code",
      "source": [
        "alpha = 0.05\n",
        "result = st.ttest_ind(other_comp, big_comp, equal_var = True)\n",
        "\n",
        "print(result.pvalue)\n",
        "print()\n",
        "if result.pvalue < alpha:\n",
        "    print('H0 Rejected')\n",
        "else:\n",
        "    print('H0 Accepted')"
      ],
      "metadata": {
        "colab": {
          "base_uri": "https://localhost:8080/"
        },
        "id": "kStc1yEepWB-",
        "outputId": "018aa213-06c3-4b23-9ad8-7db234a3b6d8"
      },
      "execution_count": null,
      "outputs": [
        {
          "output_type": "stream",
          "name": "stdout",
          "text": [
            "8.314646138729913e-11\n",
            "\n",
            "H0 Rejected\n"
          ]
        }
      ]
    },
    {
      "cell_type": "markdown",
      "source": [
        "Based on the results of the hypothesis test, with a calculated p-value of approximately 2.96e-13, which is significantly smaller than the chosen significance level (alpha), we have strong statistical evidence to reject the null hypothesis (H0). Therefore, we can conclude the following:\n",
        "\n",
        "- There is a statistically significant difference in the average number of applicants per day between big companies and other companies.\n",
        "\n",
        "In other words, the data provide strong support for the alternative hypothesis (H1), indicating that the average number of applicants per day is not the same for big companies and other companies."
      ],
      "metadata": {
        "id": "8Gep_rwNut8i"
      }
    },
    {
      "cell_type": "markdown",
      "source": [
        "## Hypothesis Testing on Work Place"
      ],
      "metadata": {
        "id": "q7QAEcCmspfS"
      }
    },
    {
      "cell_type": "markdown",
      "source": [
        "In light of the growing popularity of remote work arrangements, we want to explore whether this shift has had an impact on the number of job applicants received by companies. To investigate this, we are setting up a hypothesis test to analyze whether there is a statistically significant difference in the average number of daily job applicants between remote jobs and onsite jobs."
      ],
      "metadata": {
        "id": "Y5pzAbRDgMjw"
      }
    },
    {
      "cell_type": "markdown",
      "source": [
        "Null Hypothesis (H0): The average number of applicants per day for remote jobs is the SAME as the average for onsite jobs.\n",
        "\n",
        "Alternative Hypothesis (H1): The average number of applicants per day for remote jobs is DIFFERENT from the average for onsite jobs."
      ],
      "metadata": {
        "id": "PO8Dy0i_9cdD"
      }
    },
    {
      "cell_type": "code",
      "source": [
        "remote = data.loc[(data['work_place'] == 'Remote') & (data['applicant_perday'] != 0)]['applicant_perday']\n",
        "remote"
      ],
      "metadata": {
        "colab": {
          "base_uri": "https://localhost:8080/"
        },
        "id": "Z1HzRfADgVhL",
        "outputId": "305fef81-72eb-4a05-e571-718a1403a005"
      },
      "execution_count": null,
      "outputs": [
        {
          "output_type": "execute_result",
          "data": {
            "text/plain": [
              "7        137.000000\n",
              "22        39.622222\n",
              "47        59.250000\n",
              "51       171.200000\n",
              "61         3.767123\n",
              "            ...    \n",
              "18299      0.272727\n",
              "18300      0.272727\n",
              "18303      0.038462\n",
              "18304      0.076923\n",
              "18305      0.038462\n",
              "Name: applicant_perday, Length: 2136, dtype: float64"
            ]
          },
          "metadata": {},
          "execution_count": 198
        }
      ]
    },
    {
      "cell_type": "code",
      "source": [
        "onsite = data.loc[(data['work_place'] == 'Onsite') & (data['applicant_perday'] != 0)]['applicant_perday']\n",
        "onsite"
      ],
      "metadata": {
        "colab": {
          "base_uri": "https://localhost:8080/"
        },
        "id": "ColUS5g0goKc",
        "outputId": "ad7b40a9-c722-4c72-a69e-d18e11cf7d09"
      },
      "execution_count": null,
      "outputs": [
        {
          "output_type": "execute_result",
          "data": {
            "text/plain": [
              "0         4.696970\n",
              "2        29.200000\n",
              "3         6.162162\n",
              "5        11.600000\n",
              "6        11.983607\n",
              "           ...    \n",
              "18292     0.750000\n",
              "18293     0.875000\n",
              "18294     2.083333\n",
              "18295     0.523810\n",
              "18306     4.000000\n",
              "Name: applicant_perday, Length: 8447, dtype: float64"
            ]
          },
          "metadata": {},
          "execution_count": 199
        }
      ]
    },
    {
      "cell_type": "code",
      "source": [
        "len(remote), len(onsite)"
      ],
      "metadata": {
        "colab": {
          "base_uri": "https://localhost:8080/"
        },
        "id": "oJY_qvEViP-N",
        "outputId": "3ca75f86-1ba2-4ee7-dd3c-b65b75dba9ae"
      },
      "execution_count": null,
      "outputs": [
        {
          "output_type": "execute_result",
          "data": {
            "text/plain": [
              "(2136, 8447)"
            ]
          },
          "metadata": {},
          "execution_count": 200
        }
      ]
    },
    {
      "cell_type": "markdown",
      "source": [
        "Since we need the same sample size, I will take randomly 2136 data from `onsite` to match it size with `remote`"
      ],
      "metadata": {
        "id": "P0dsplNdiQ6c"
      }
    },
    {
      "cell_type": "code",
      "source": [
        "onsite = onsite.sample(2136)\n",
        "len(onsite) == len(remote)"
      ],
      "metadata": {
        "colab": {
          "base_uri": "https://localhost:8080/"
        },
        "id": "NZqkwqNDgVd3",
        "outputId": "72d9e2da-3188-40f2-f2d0-1e8be629b017"
      },
      "execution_count": null,
      "outputs": [
        {
          "output_type": "execute_result",
          "data": {
            "text/plain": [
              "True"
            ]
          },
          "metadata": {},
          "execution_count": 201
        }
      ]
    },
    {
      "cell_type": "code",
      "source": [
        "# check variance\n",
        "print(f'variance Remote Job: {np.var(remote)}')\n",
        "print(f'variance Onsite Job: {np.var(onsite)}')"
      ],
      "metadata": {
        "colab": {
          "base_uri": "https://localhost:8080/"
        },
        "id": "vhtlWVOygVcI",
        "outputId": "baf6edb1-9f3d-410f-840a-478018503bdf"
      },
      "execution_count": null,
      "outputs": [
        {
          "output_type": "stream",
          "name": "stdout",
          "text": [
            "variance Remote Job: 830.6671402931561\n",
            "variance Onsite Job: 516.7121159988328\n"
          ]
        }
      ]
    },
    {
      "cell_type": "code",
      "source": [
        "# check if the variance is equal\n",
        "equal_variance = np.var(remote)/np.var(onsite)\n",
        "\n",
        "if equal_variance < 4:\n",
        "    print('Variance is EQUAL')\n",
        "else:\n",
        "    print('Variance is NOT EQUAL')"
      ],
      "metadata": {
        "colab": {
          "base_uri": "https://localhost:8080/"
        },
        "id": "6H4KpqemgVao",
        "outputId": "10207076-e003-441c-ee8d-82ee7af7aa7c"
      },
      "execution_count": null,
      "outputs": [
        {
          "output_type": "stream",
          "name": "stdout",
          "text": [
            "Variance is EQUAL\n"
          ]
        }
      ]
    },
    {
      "cell_type": "code",
      "source": [
        "alpha = 0.05\n",
        "result = st.ttest_ind(remote, onsite, equal_var = True)\n",
        "\n",
        "print(result.pvalue)\n",
        "print()\n",
        "if result.pvalue < alpha:\n",
        "    print('H0 Rejected')\n",
        "else:\n",
        "    print('H0 Accepted')"
      ],
      "metadata": {
        "colab": {
          "base_uri": "https://localhost:8080/"
        },
        "id": "Qpi0olcNiu8S",
        "outputId": "ea50c10c-4934-408a-d086-41a842cd069b"
      },
      "execution_count": null,
      "outputs": [
        {
          "output_type": "stream",
          "name": "stdout",
          "text": [
            "0.5522454596697888\n",
            "\n",
            "H0 Accepted\n"
          ]
        }
      ]
    },
    {
      "cell_type": "markdown",
      "source": [
        "There is no statistically significant difference in the average number of applicants per day between remote jobs and onsite jobs.\n",
        "\n",
        "In other words, the data does not provide strong support for the alternative hypothesis (H1), indicating that, based on the sample data and the chosen significance level, there is no meaningful difference in the number of daily job applicants between remote and onsite job postings. This suggests that the work arrangement (remote or onsite) does not appear to be a significant factor influencing the number of job applicants received."
      ],
      "metadata": {
        "id": "NJSqXpZ4jMGj"
      }
    },
    {
      "cell_type": "markdown",
      "source": [
        "# Conclusion"
      ],
      "metadata": {
        "id": "aADwXRxgjd6g"
      }
    },
    {
      "cell_type": "markdown",
      "source": [
        "Job Posting Trends:\n",
        "- It's clear that job postings are highest from Monday to Thursday, with a peak on Thursday. Therefore, job seekers should focus their efforts on weekdays to maximize their chances of finding suitable positions.\n",
        "\n",
        "Total Applicants based on Employment Type:\n",
        "- The competition for full-time positions is intense, so applicants should emphasize their relevant skills and experiences. However, don't overlook internship, contract, or part-time roles, especially for gaining experience or exploring new industries.\n",
        "\n",
        "Applicants per Day based on Employment Type:\n",
        "- The \"applicant per day\" metric provides a fairer comparison of job seeker interest. Internship positions are particularly appealing to job seekers, surpassing full-time positions in terms of daily interest.\n",
        "\n",
        "Seniority Level Distribution based on Company Size:\n",
        "- Entry-level positions are common across all company sizes. Job seekers with mid-senior level experience may find more options in larger companies, but opportunities exist in medium and small companies as well.\n",
        "\n",
        "Job Postings by Industry:\n",
        "- IT Services and IT Consulting have the highest number of job postings, but financial services and semiconductor manufacturing also attract significant job seeker interest. Job seekers should consider industries like Appliances and Business Consulting and Services, which have high average applicant per-day figures.\n",
        "\n",
        "Work Type Distribution:\n",
        "- Onsite job postings are the most common, but hybrid and remote work opportunities are also prevalent. The preference for different work types varies by country, with some embracing flexible arrangements more than others.\n",
        "\n",
        "**Recommendations:**\n",
        "\n",
        "- Job seekers should tailor their job search strategies based on the day of the week. Focusing efforts on weekdays, especially Thursday, is advisable.\n",
        "\n",
        "- Emphasize relevant skills and experiences when applying for full-time positions due to high competition. However, consider internships or part-time roles for gaining experience.\n",
        "\n",
        "- Pay attention to the \"applicant per day\" metric to gauge job seeker interest accurately.\n",
        "\n",
        "- Explore opportunities across various company sizes, as entry-level positions are available in companies of all sizes.\n",
        "\n",
        "- Consider industries with high applicant interest, such as Appliances and Business Consulting and Services."
      ],
      "metadata": {
        "id": "EynU1Jiujage"
      }
    },
    {
      "cell_type": "markdown",
      "source": [
        "## Save dataset"
      ],
      "metadata": {
        "id": "0g4DAfHsgt5B"
      }
    },
    {
      "cell_type": "code",
      "source": [
        "data.head()"
      ],
      "metadata": {
        "id": "ZK_XfHZCuU5K",
        "colab": {
          "base_uri": "https://localhost:8080/",
          "height": 380
        },
        "outputId": "fe79cd31-f3bd-4541-bcc3-1b21df017053"
      },
      "execution_count": null,
      "outputs": [
        {
          "output_type": "execute_result",
          "data": {
            "text/plain": [
              "                              job_title                   company_name  \\\n",
              "0                  Data Science Trainee  Algoritma Data Science School   \n",
              "1              Data Intelligence Intern                         SIRCLO   \n",
              "2             Business Analyst (intern)               Kawan Lama Group   \n",
              "3  Business Intelligence Analyst Intern                   Flash Coffee   \n",
              "4                 Data Scientist Intern                        Amartha   \n",
              "\n",
              "  date_posted date_scraped seniority_level employment_type work_place  \\\n",
              "0  2023-07-01   2023-08-03      Internship       Full-time     Onsite   \n",
              "1  2023-08-02   2023-08-03      Internship       Full-time     Hybrid   \n",
              "2  2023-07-24   2023-08-03      Internship      Internship     Onsite   \n",
              "3  2023-06-27   2023-08-03      Internship      Internship     Onsite   \n",
              "4  2023-07-27   2023-08-03      Internship       Full-time     Hybrid   \n",
              "\n",
              "                             industries        state    country  \\\n",
              "0     Education Administration Programs  DKI Jakarta  Indonesia   \n",
              "1         IT Services and IT Consulting       Banten  Indonesia   \n",
              "2                                Retail  DKI Jakarta  Indonesia   \n",
              "3  Technology, Information and Internet  DKI Jakarta  Indonesia   \n",
              "4                    Financial Services  DKI Jakarta  Indonesia   \n",
              "\n",
              "          company_size  company_followers  total_applicants  applicant_perday  \\\n",
              "0       11-50 Employee              11560               155          4.696970   \n",
              "1   1001-5000 Employee              67415               126        126.000000   \n",
              "2      10001+ Employee             150260               292         29.200000   \n",
              "3    501-1000 Employee              30563               228          6.162162   \n",
              "4  5001-10000 Employee              64041               184         26.285714   \n",
              "\n",
              "   day_of_week       comp_category               clean_industries  \n",
              "0            5       Small Company               Other Industries  \n",
              "1            2  Medium-Big Company  IT Services and IT Consulting  \n",
              "2            0         Big Company               Other Industries  \n",
              "3            1  Medium-Big Company                     Technology  \n",
              "4            3         Big Company             Financial Services  "
            ],
            "text/html": [
              "\n",
              "  <div id=\"df-aaa4741b-71f5-4297-b354-1f412e06b065\" class=\"colab-df-container\">\n",
              "    <div>\n",
              "<style scoped>\n",
              "    .dataframe tbody tr th:only-of-type {\n",
              "        vertical-align: middle;\n",
              "    }\n",
              "\n",
              "    .dataframe tbody tr th {\n",
              "        vertical-align: top;\n",
              "    }\n",
              "\n",
              "    .dataframe thead th {\n",
              "        text-align: right;\n",
              "    }\n",
              "</style>\n",
              "<table border=\"1\" class=\"dataframe\">\n",
              "  <thead>\n",
              "    <tr style=\"text-align: right;\">\n",
              "      <th></th>\n",
              "      <th>job_title</th>\n",
              "      <th>company_name</th>\n",
              "      <th>date_posted</th>\n",
              "      <th>date_scraped</th>\n",
              "      <th>seniority_level</th>\n",
              "      <th>employment_type</th>\n",
              "      <th>work_place</th>\n",
              "      <th>industries</th>\n",
              "      <th>state</th>\n",
              "      <th>country</th>\n",
              "      <th>company_size</th>\n",
              "      <th>company_followers</th>\n",
              "      <th>total_applicants</th>\n",
              "      <th>applicant_perday</th>\n",
              "      <th>day_of_week</th>\n",
              "      <th>comp_category</th>\n",
              "      <th>clean_industries</th>\n",
              "    </tr>\n",
              "  </thead>\n",
              "  <tbody>\n",
              "    <tr>\n",
              "      <th>0</th>\n",
              "      <td>Data Science Trainee</td>\n",
              "      <td>Algoritma Data Science School</td>\n",
              "      <td>2023-07-01</td>\n",
              "      <td>2023-08-03</td>\n",
              "      <td>Internship</td>\n",
              "      <td>Full-time</td>\n",
              "      <td>Onsite</td>\n",
              "      <td>Education Administration Programs</td>\n",
              "      <td>DKI Jakarta</td>\n",
              "      <td>Indonesia</td>\n",
              "      <td>11-50 Employee</td>\n",
              "      <td>11560</td>\n",
              "      <td>155</td>\n",
              "      <td>4.696970</td>\n",
              "      <td>5</td>\n",
              "      <td>Small Company</td>\n",
              "      <td>Other Industries</td>\n",
              "    </tr>\n",
              "    <tr>\n",
              "      <th>1</th>\n",
              "      <td>Data Intelligence Intern</td>\n",
              "      <td>SIRCLO</td>\n",
              "      <td>2023-08-02</td>\n",
              "      <td>2023-08-03</td>\n",
              "      <td>Internship</td>\n",
              "      <td>Full-time</td>\n",
              "      <td>Hybrid</td>\n",
              "      <td>IT Services and IT Consulting</td>\n",
              "      <td>Banten</td>\n",
              "      <td>Indonesia</td>\n",
              "      <td>1001-5000 Employee</td>\n",
              "      <td>67415</td>\n",
              "      <td>126</td>\n",
              "      <td>126.000000</td>\n",
              "      <td>2</td>\n",
              "      <td>Medium-Big Company</td>\n",
              "      <td>IT Services and IT Consulting</td>\n",
              "    </tr>\n",
              "    <tr>\n",
              "      <th>2</th>\n",
              "      <td>Business Analyst (intern)</td>\n",
              "      <td>Kawan Lama Group</td>\n",
              "      <td>2023-07-24</td>\n",
              "      <td>2023-08-03</td>\n",
              "      <td>Internship</td>\n",
              "      <td>Internship</td>\n",
              "      <td>Onsite</td>\n",
              "      <td>Retail</td>\n",
              "      <td>DKI Jakarta</td>\n",
              "      <td>Indonesia</td>\n",
              "      <td>10001+ Employee</td>\n",
              "      <td>150260</td>\n",
              "      <td>292</td>\n",
              "      <td>29.200000</td>\n",
              "      <td>0</td>\n",
              "      <td>Big Company</td>\n",
              "      <td>Other Industries</td>\n",
              "    </tr>\n",
              "    <tr>\n",
              "      <th>3</th>\n",
              "      <td>Business Intelligence Analyst Intern</td>\n",
              "      <td>Flash Coffee</td>\n",
              "      <td>2023-06-27</td>\n",
              "      <td>2023-08-03</td>\n",
              "      <td>Internship</td>\n",
              "      <td>Internship</td>\n",
              "      <td>Onsite</td>\n",
              "      <td>Technology, Information and Internet</td>\n",
              "      <td>DKI Jakarta</td>\n",
              "      <td>Indonesia</td>\n",
              "      <td>501-1000 Employee</td>\n",
              "      <td>30563</td>\n",
              "      <td>228</td>\n",
              "      <td>6.162162</td>\n",
              "      <td>1</td>\n",
              "      <td>Medium-Big Company</td>\n",
              "      <td>Technology</td>\n",
              "    </tr>\n",
              "    <tr>\n",
              "      <th>4</th>\n",
              "      <td>Data Scientist Intern</td>\n",
              "      <td>Amartha</td>\n",
              "      <td>2023-07-27</td>\n",
              "      <td>2023-08-03</td>\n",
              "      <td>Internship</td>\n",
              "      <td>Full-time</td>\n",
              "      <td>Hybrid</td>\n",
              "      <td>Financial Services</td>\n",
              "      <td>DKI Jakarta</td>\n",
              "      <td>Indonesia</td>\n",
              "      <td>5001-10000 Employee</td>\n",
              "      <td>64041</td>\n",
              "      <td>184</td>\n",
              "      <td>26.285714</td>\n",
              "      <td>3</td>\n",
              "      <td>Big Company</td>\n",
              "      <td>Financial Services</td>\n",
              "    </tr>\n",
              "  </tbody>\n",
              "</table>\n",
              "</div>\n",
              "    <div class=\"colab-df-buttons\">\n",
              "\n",
              "  <div class=\"colab-df-container\">\n",
              "    <button class=\"colab-df-convert\" onclick=\"convertToInteractive('df-aaa4741b-71f5-4297-b354-1f412e06b065')\"\n",
              "            title=\"Convert this dataframe to an interactive table.\"\n",
              "            style=\"display:none;\">\n",
              "\n",
              "  <svg xmlns=\"http://www.w3.org/2000/svg\" height=\"24px\" viewBox=\"0 -960 960 960\">\n",
              "    <path d=\"M120-120v-720h720v720H120Zm60-500h600v-160H180v160Zm220 220h160v-160H400v160Zm0 220h160v-160H400v160ZM180-400h160v-160H180v160Zm440 0h160v-160H620v160ZM180-180h160v-160H180v160Zm440 0h160v-160H620v160Z\"/>\n",
              "  </svg>\n",
              "    </button>\n",
              "\n",
              "  <style>\n",
              "    .colab-df-container {\n",
              "      display:flex;\n",
              "      gap: 12px;\n",
              "    }\n",
              "\n",
              "    .colab-df-convert {\n",
              "      background-color: #E8F0FE;\n",
              "      border: none;\n",
              "      border-radius: 50%;\n",
              "      cursor: pointer;\n",
              "      display: none;\n",
              "      fill: #1967D2;\n",
              "      height: 32px;\n",
              "      padding: 0 0 0 0;\n",
              "      width: 32px;\n",
              "    }\n",
              "\n",
              "    .colab-df-convert:hover {\n",
              "      background-color: #E2EBFA;\n",
              "      box-shadow: 0px 1px 2px rgba(60, 64, 67, 0.3), 0px 1px 3px 1px rgba(60, 64, 67, 0.15);\n",
              "      fill: #174EA6;\n",
              "    }\n",
              "\n",
              "    .colab-df-buttons div {\n",
              "      margin-bottom: 4px;\n",
              "    }\n",
              "\n",
              "    [theme=dark] .colab-df-convert {\n",
              "      background-color: #3B4455;\n",
              "      fill: #D2E3FC;\n",
              "    }\n",
              "\n",
              "    [theme=dark] .colab-df-convert:hover {\n",
              "      background-color: #434B5C;\n",
              "      box-shadow: 0px 1px 3px 1px rgba(0, 0, 0, 0.15);\n",
              "      filter: drop-shadow(0px 1px 2px rgba(0, 0, 0, 0.3));\n",
              "      fill: #FFFFFF;\n",
              "    }\n",
              "  </style>\n",
              "\n",
              "    <script>\n",
              "      const buttonEl =\n",
              "        document.querySelector('#df-aaa4741b-71f5-4297-b354-1f412e06b065 button.colab-df-convert');\n",
              "      buttonEl.style.display =\n",
              "        google.colab.kernel.accessAllowed ? 'block' : 'none';\n",
              "\n",
              "      async function convertToInteractive(key) {\n",
              "        const element = document.querySelector('#df-aaa4741b-71f5-4297-b354-1f412e06b065');\n",
              "        const dataTable =\n",
              "          await google.colab.kernel.invokeFunction('convertToInteractive',\n",
              "                                                    [key], {});\n",
              "        if (!dataTable) return;\n",
              "\n",
              "        const docLinkHtml = 'Like what you see? Visit the ' +\n",
              "          '<a target=\"_blank\" href=https://colab.research.google.com/notebooks/data_table.ipynb>data table notebook</a>'\n",
              "          + ' to learn more about interactive tables.';\n",
              "        element.innerHTML = '';\n",
              "        dataTable['output_type'] = 'display_data';\n",
              "        await google.colab.output.renderOutput(dataTable, element);\n",
              "        const docLink = document.createElement('div');\n",
              "        docLink.innerHTML = docLinkHtml;\n",
              "        element.appendChild(docLink);\n",
              "      }\n",
              "    </script>\n",
              "  </div>\n",
              "\n",
              "\n",
              "<div id=\"df-944f1cd2-901c-4ad1-b84c-4be10be56172\">\n",
              "  <button class=\"colab-df-quickchart\" onclick=\"quickchart('df-944f1cd2-901c-4ad1-b84c-4be10be56172')\"\n",
              "            title=\"Suggest charts.\"\n",
              "            style=\"display:none;\">\n",
              "\n",
              "<svg xmlns=\"http://www.w3.org/2000/svg\" height=\"24px\"viewBox=\"0 0 24 24\"\n",
              "     width=\"24px\">\n",
              "    <g>\n",
              "        <path d=\"M19 3H5c-1.1 0-2 .9-2 2v14c0 1.1.9 2 2 2h14c1.1 0 2-.9 2-2V5c0-1.1-.9-2-2-2zM9 17H7v-7h2v7zm4 0h-2V7h2v10zm4 0h-2v-4h2v4z\"/>\n",
              "    </g>\n",
              "</svg>\n",
              "  </button>\n",
              "\n",
              "<style>\n",
              "  .colab-df-quickchart {\n",
              "    background-color: #E8F0FE;\n",
              "    border: none;\n",
              "    border-radius: 50%;\n",
              "    cursor: pointer;\n",
              "    display: none;\n",
              "    fill: #1967D2;\n",
              "    height: 32px;\n",
              "    padding: 0 0 0 0;\n",
              "    width: 32px;\n",
              "  }\n",
              "\n",
              "  .colab-df-quickchart:hover {\n",
              "    background-color: #E2EBFA;\n",
              "    box-shadow: 0px 1px 2px rgba(60, 64, 67, 0.3), 0px 1px 3px 1px rgba(60, 64, 67, 0.15);\n",
              "    fill: #174EA6;\n",
              "  }\n",
              "\n",
              "  [theme=dark] .colab-df-quickchart {\n",
              "    background-color: #3B4455;\n",
              "    fill: #D2E3FC;\n",
              "  }\n",
              "\n",
              "  [theme=dark] .colab-df-quickchart:hover {\n",
              "    background-color: #434B5C;\n",
              "    box-shadow: 0px 1px 3px 1px rgba(0, 0, 0, 0.15);\n",
              "    filter: drop-shadow(0px 1px 2px rgba(0, 0, 0, 0.3));\n",
              "    fill: #FFFFFF;\n",
              "  }\n",
              "</style>\n",
              "\n",
              "  <script>\n",
              "    async function quickchart(key) {\n",
              "      const charts = await google.colab.kernel.invokeFunction(\n",
              "          'suggestCharts', [key], {});\n",
              "    }\n",
              "    (() => {\n",
              "      let quickchartButtonEl =\n",
              "        document.querySelector('#df-944f1cd2-901c-4ad1-b84c-4be10be56172 button');\n",
              "      quickchartButtonEl.style.display =\n",
              "        google.colab.kernel.accessAllowed ? 'block' : 'none';\n",
              "    })();\n",
              "  </script>\n",
              "</div>\n",
              "    </div>\n",
              "  </div>\n"
            ]
          },
          "metadata": {},
          "execution_count": 186
        }
      ]
    },
    {
      "cell_type": "code",
      "source": [
        "#data.to_csv('/content/gdrive/MyDrive/WEB SCRAPING 101/Data Cleaned_new_after_eda.csv')"
      ],
      "metadata": {
        "id": "kuqwiIpqgz_X"
      },
      "execution_count": null,
      "outputs": []
    }
  ]
}